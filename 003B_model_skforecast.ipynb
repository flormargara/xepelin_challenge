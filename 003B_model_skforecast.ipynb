{
 "cells": [
  {
   "cell_type": "markdown",
   "id": "75acf634-6086-45e8-9b90-0d292c22e8c8",
   "metadata": {},
   "source": [
    "# Caso Técnico Xepelin\n",
    "# SkForecast \n",
    "#### Florencia Margara\n",
    "#### Fecha: 2022-08-22\n",
    "\n",
    "## Import Libs"
   ]
  },
  {
   "cell_type": "code",
   "execution_count": 37,
   "id": "f3c43729-eb91-4f31-b409-f029cca6a2ff",
   "metadata": {},
   "outputs": [],
   "source": [
    "# Tratamiento de datos\n",
    "# ==============================================================================\n",
    "import numpy as np\n",
    "import pandas as pd\n",
    "pd.set_option('display.float_format', lambda x: '%.2f' % x)\n",
    "from joblib import dump, load\n",
    "\n",
    "# Gráficos\n",
    "# ==============================================================================\n",
    "import matplotlib.pyplot as plt\n",
    "plt.style.use('fivethirtyeight')\n",
    "plt.rcParams['lines.linewidth'] = 1.5\n",
    "%matplotlib inline\n",
    "\n",
    "# Modelado y Forecasting\n",
    "# ==============================================================================\n",
    "from sklearn.linear_model import LinearRegression\n",
    "from sklearn.linear_model import Lasso\n",
    "from sklearn.ensemble import RandomForestRegressor\n",
    "from sklearn.metrics import mean_squared_error, mean_absolute_error, r2_score\n",
    "from sklearn.preprocessing import StandardScaler\n",
    "from sklearn.pipeline import make_pipeline\n",
    "\n",
    "from skforecast.ForecasterAutoreg import ForecasterAutoreg\n",
    "from skforecast.ForecasterAutoregCustom import ForecasterAutoregCustom\n",
    "from skforecast.ForecasterAutoregMultiOutput import ForecasterAutoregMultiOutput\n",
    "from skforecast.model_selection import grid_search_forecaster\n",
    "from skforecast.model_selection import backtesting_forecaster\n",
    "\n",
    "from utils.helper_functions import process_metrics\n",
    "\n",
    "\n",
    "# Configuración warnings\n",
    "# ==============================================================================\n",
    "import warnings\n",
    "# warnings.filterwarnings('ignore')"
   ]
  },
  {
   "cell_type": "markdown",
   "id": "44c79c29-500f-49d0-9d8d-b464722d0c52",
   "metadata": {},
   "source": [
    "## Load Data"
   ]
  },
  {
   "cell_type": "code",
   "execution_count": 38,
   "id": "9a93ef96-e8e6-4815-abcd-d4b6d2ac6e1c",
   "metadata": {},
   "outputs": [
    {
     "data": {
      "text/html": [
       "<div>\n",
       "<style scoped>\n",
       "    .dataframe tbody tr th:only-of-type {\n",
       "        vertical-align: middle;\n",
       "    }\n",
       "\n",
       "    .dataframe tbody tr th {\n",
       "        vertical-align: top;\n",
       "    }\n",
       "\n",
       "    .dataframe thead th {\n",
       "        text-align: right;\n",
       "    }\n",
       "</style>\n",
       "<table border=\"1\" class=\"dataframe\">\n",
       "  <thead>\n",
       "    <tr style=\"text-align: right;\">\n",
       "      <th></th>\n",
       "      <th>period</th>\n",
       "      <th>freq</th>\n",
       "      <th>freqFinanced</th>\n",
       "      <th>totalAmount</th>\n",
       "      <th>meanAmount</th>\n",
       "      <th>totalFinanced</th>\n",
       "      <th>meanFinanced</th>\n",
       "      <th>freqPayers</th>\n",
       "      <th>freqReceiver</th>\n",
       "    </tr>\n",
       "  </thead>\n",
       "  <tbody>\n",
       "    <tr>\n",
       "      <th>0</th>\n",
       "      <td>2021-10-01</td>\n",
       "      <td>5</td>\n",
       "      <td>1</td>\n",
       "      <td>35902.64</td>\n",
       "      <td>7180.53</td>\n",
       "      <td>10520.15</td>\n",
       "      <td>2104.03</td>\n",
       "      <td>5</td>\n",
       "      <td>5</td>\n",
       "    </tr>\n",
       "    <tr>\n",
       "      <th>1</th>\n",
       "      <td>2021-11-01</td>\n",
       "      <td>13</td>\n",
       "      <td>8</td>\n",
       "      <td>268349.19</td>\n",
       "      <td>20642.25</td>\n",
       "      <td>119352.51</td>\n",
       "      <td>9180.96</td>\n",
       "      <td>13</td>\n",
       "      <td>12</td>\n",
       "    </tr>\n",
       "    <tr>\n",
       "      <th>2</th>\n",
       "      <td>2021-12-01</td>\n",
       "      <td>17</td>\n",
       "      <td>7</td>\n",
       "      <td>753946.49</td>\n",
       "      <td>44349.79</td>\n",
       "      <td>592831.07</td>\n",
       "      <td>34872.42</td>\n",
       "      <td>16</td>\n",
       "      <td>16</td>\n",
       "    </tr>\n",
       "    <tr>\n",
       "      <th>3</th>\n",
       "      <td>2022-01-01</td>\n",
       "      <td>107</td>\n",
       "      <td>43</td>\n",
       "      <td>7283045.52</td>\n",
       "      <td>68065.85</td>\n",
       "      <td>5219511.13</td>\n",
       "      <td>48780.48</td>\n",
       "      <td>83</td>\n",
       "      <td>56</td>\n",
       "    </tr>\n",
       "    <tr>\n",
       "      <th>4</th>\n",
       "      <td>2022-02-01</td>\n",
       "      <td>183</td>\n",
       "      <td>45</td>\n",
       "      <td>7100660.51</td>\n",
       "      <td>38801.42</td>\n",
       "      <td>4485712.42</td>\n",
       "      <td>24512.09</td>\n",
       "      <td>115</td>\n",
       "      <td>65</td>\n",
       "    </tr>\n",
       "    <tr>\n",
       "      <th>5</th>\n",
       "      <td>2022-03-01</td>\n",
       "      <td>225</td>\n",
       "      <td>49</td>\n",
       "      <td>5765920.25</td>\n",
       "      <td>25626.31</td>\n",
       "      <td>2344379.98</td>\n",
       "      <td>10419.47</td>\n",
       "      <td>137</td>\n",
       "      <td>68</td>\n",
       "    </tr>\n",
       "    <tr>\n",
       "      <th>6</th>\n",
       "      <td>2022-04-01</td>\n",
       "      <td>269</td>\n",
       "      <td>50</td>\n",
       "      <td>5042399.69</td>\n",
       "      <td>18744.98</td>\n",
       "      <td>3057870.38</td>\n",
       "      <td>11367.55</td>\n",
       "      <td>153</td>\n",
       "      <td>73</td>\n",
       "    </tr>\n",
       "    <tr>\n",
       "      <th>7</th>\n",
       "      <td>2022-05-01</td>\n",
       "      <td>73</td>\n",
       "      <td>18</td>\n",
       "      <td>1180788.62</td>\n",
       "      <td>16175.19</td>\n",
       "      <td>714735.77</td>\n",
       "      <td>9790.90</td>\n",
       "      <td>62</td>\n",
       "      <td>35</td>\n",
       "    </tr>\n",
       "  </tbody>\n",
       "</table>\n",
       "</div>"
      ],
      "text/plain": [
       "      period  freq  freqFinanced  totalAmount  meanAmount  totalFinanced  \\\n",
       "0 2021-10-01     5             1     35902.64     7180.53       10520.15   \n",
       "1 2021-11-01    13             8    268349.19    20642.25      119352.51   \n",
       "2 2021-12-01    17             7    753946.49    44349.79      592831.07   \n",
       "3 2022-01-01   107            43   7283045.52    68065.85     5219511.13   \n",
       "4 2022-02-01   183            45   7100660.51    38801.42     4485712.42   \n",
       "5 2022-03-01   225            49   5765920.25    25626.31     2344379.98   \n",
       "6 2022-04-01   269            50   5042399.69    18744.98     3057870.38   \n",
       "7 2022-05-01    73            18   1180788.62    16175.19      714735.77   \n",
       "\n",
       "   meanFinanced  freqPayers  freqReceiver  \n",
       "0       2104.03           5             5  \n",
       "1       9180.96          13            12  \n",
       "2      34872.42          16            16  \n",
       "3      48780.48          83            56  \n",
       "4      24512.09         115            65  \n",
       "5      10419.47         137            68  \n",
       "6      11367.55         153            73  \n",
       "7       9790.90          62            35  "
      ]
     },
     "execution_count": 38,
     "metadata": {},
     "output_type": "execute_result"
    }
   ],
   "source": [
    "# Descarga de datos\n",
    "# ==============================================================================\n",
    "datos = pd.read_csv('data/data_final.csv', parse_dates = ['period'])\n",
    "datos = datos.drop('Unnamed: 0', axis=1)\n",
    "datos"
   ]
  },
  {
   "cell_type": "code",
   "execution_count": 39,
   "id": "b10a348d-2ecb-4f03-b6ee-4d610a118fa6",
   "metadata": {},
   "outputs": [
    {
     "name": "stdout",
     "output_type": "stream",
     "text": [
      "<class 'pandas.core.frame.DataFrame'>\n",
      "RangeIndex: 8 entries, 0 to 7\n",
      "Data columns (total 9 columns):\n",
      " #   Column         Non-Null Count  Dtype         \n",
      "---  ------         --------------  -----         \n",
      " 0   period         8 non-null      datetime64[ns]\n",
      " 1   freq           8 non-null      int64         \n",
      " 2   freqFinanced   8 non-null      int64         \n",
      " 3   totalAmount    8 non-null      float64       \n",
      " 4   meanAmount     8 non-null      float64       \n",
      " 5   totalFinanced  8 non-null      float64       \n",
      " 6   meanFinanced   8 non-null      float64       \n",
      " 7   freqPayers     8 non-null      int64         \n",
      " 8   freqReceiver   8 non-null      int64         \n",
      "dtypes: datetime64[ns](1), float64(4), int64(4)\n",
      "memory usage: 704.0 bytes\n"
     ]
    }
   ],
   "source": [
    "datos.info()"
   ]
  },
  {
   "cell_type": "code",
   "execution_count": 40,
   "id": "09a87411-9714-4952-a3b9-bd22fd036a38",
   "metadata": {},
   "outputs": [
    {
     "data": {
      "text/html": [
       "<div>\n",
       "<style scoped>\n",
       "    .dataframe tbody tr th:only-of-type {\n",
       "        vertical-align: middle;\n",
       "    }\n",
       "\n",
       "    .dataframe tbody tr th {\n",
       "        vertical-align: top;\n",
       "    }\n",
       "\n",
       "    .dataframe thead th {\n",
       "        text-align: right;\n",
       "    }\n",
       "</style>\n",
       "<table border=\"1\" class=\"dataframe\">\n",
       "  <thead>\n",
       "    <tr style=\"text-align: right;\">\n",
       "      <th></th>\n",
       "      <th>qPayments</th>\n",
       "      <th>freqFinanced</th>\n",
       "      <th>y</th>\n",
       "      <th>meanAmount</th>\n",
       "      <th>totalFinanced</th>\n",
       "      <th>meanFinanced</th>\n",
       "      <th>freqPayers</th>\n",
       "      <th>freqReceiver</th>\n",
       "    </tr>\n",
       "    <tr>\n",
       "      <th>period</th>\n",
       "      <th></th>\n",
       "      <th></th>\n",
       "      <th></th>\n",
       "      <th></th>\n",
       "      <th></th>\n",
       "      <th></th>\n",
       "      <th></th>\n",
       "      <th></th>\n",
       "    </tr>\n",
       "  </thead>\n",
       "  <tbody>\n",
       "    <tr>\n",
       "      <th>2021-10-01</th>\n",
       "      <td>5</td>\n",
       "      <td>1</td>\n",
       "      <td>35902.64</td>\n",
       "      <td>7180.53</td>\n",
       "      <td>10520.15</td>\n",
       "      <td>2104.03</td>\n",
       "      <td>5</td>\n",
       "      <td>5</td>\n",
       "    </tr>\n",
       "    <tr>\n",
       "      <th>2021-11-01</th>\n",
       "      <td>13</td>\n",
       "      <td>8</td>\n",
       "      <td>268349.19</td>\n",
       "      <td>20642.25</td>\n",
       "      <td>119352.51</td>\n",
       "      <td>9180.96</td>\n",
       "      <td>13</td>\n",
       "      <td>12</td>\n",
       "    </tr>\n",
       "    <tr>\n",
       "      <th>2021-12-01</th>\n",
       "      <td>17</td>\n",
       "      <td>7</td>\n",
       "      <td>753946.49</td>\n",
       "      <td>44349.79</td>\n",
       "      <td>592831.07</td>\n",
       "      <td>34872.42</td>\n",
       "      <td>16</td>\n",
       "      <td>16</td>\n",
       "    </tr>\n",
       "    <tr>\n",
       "      <th>2022-01-01</th>\n",
       "      <td>107</td>\n",
       "      <td>43</td>\n",
       "      <td>7283045.52</td>\n",
       "      <td>68065.85</td>\n",
       "      <td>5219511.13</td>\n",
       "      <td>48780.48</td>\n",
       "      <td>83</td>\n",
       "      <td>56</td>\n",
       "    </tr>\n",
       "    <tr>\n",
       "      <th>2022-02-01</th>\n",
       "      <td>183</td>\n",
       "      <td>45</td>\n",
       "      <td>7100660.51</td>\n",
       "      <td>38801.42</td>\n",
       "      <td>4485712.42</td>\n",
       "      <td>24512.09</td>\n",
       "      <td>115</td>\n",
       "      <td>65</td>\n",
       "    </tr>\n",
       "  </tbody>\n",
       "</table>\n",
       "</div>"
      ],
      "text/plain": [
       "            qPayments  freqFinanced          y  meanAmount  totalFinanced  \\\n",
       "period                                                                      \n",
       "2021-10-01          5             1   35902.64     7180.53       10520.15   \n",
       "2021-11-01         13             8  268349.19    20642.25      119352.51   \n",
       "2021-12-01         17             7  753946.49    44349.79      592831.07   \n",
       "2022-01-01        107            43 7283045.52    68065.85     5219511.13   \n",
       "2022-02-01        183            45 7100660.51    38801.42     4485712.42   \n",
       "\n",
       "            meanFinanced  freqPayers  freqReceiver  \n",
       "period                                              \n",
       "2021-10-01       2104.03           5             5  \n",
       "2021-11-01       9180.96          13            12  \n",
       "2021-12-01      34872.42          16            16  \n",
       "2022-01-01      48780.48          83            56  \n",
       "2022-02-01      24512.09         115            65  "
      ]
     },
     "execution_count": 40,
     "metadata": {},
     "output_type": "execute_result"
    }
   ],
   "source": [
    "# Preparación del dato\n",
    "# ==============================================================================\n",
    "datos = datos.set_index('period')\n",
    "datos = datos.rename(columns={'totalAmount': 'y', 'freq': 'qPayments'})\n",
    "datos = datos.asfreq('MS')\n",
    "datos = datos.sort_index()\n",
    "datos.head()"
   ]
  },
  {
   "cell_type": "code",
   "execution_count": 41,
   "id": "4d5910eb-3609-4ce7-b716-90d98ad98ff3",
   "metadata": {},
   "outputs": [
    {
     "name": "stdout",
     "output_type": "stream",
     "text": [
      "Número de filas con missing values: 0.0\n"
     ]
    }
   ],
   "source": [
    "print(f'Número de filas con missing values: {datos.isnull().any(axis=1).mean()}')"
   ]
  },
  {
   "cell_type": "code",
   "execution_count": 42,
   "id": "2c478aeb-fb0c-4634-b641-b66b99bb313f",
   "metadata": {
    "tags": []
   },
   "outputs": [
    {
     "data": {
      "text/plain": [
       "True"
      ]
     },
     "execution_count": 42,
     "metadata": {},
     "output_type": "execute_result"
    }
   ],
   "source": [
    "# Verificar que un índice temporal está completo\n",
    "# ==============================================================================\n",
    "(datos.index == pd.date_range(\n",
    "                    start = datos.index.min(),\n",
    "                    end   = datos.index.max(),\n",
    "                    freq  = datos.index.freq)\n",
    ").all()"
   ]
  },
  {
   "cell_type": "code",
   "execution_count": 43,
   "id": "ff0a960d-c699-48ce-8073-b41e8921fab0",
   "metadata": {},
   "outputs": [
    {
     "name": "stdout",
     "output_type": "stream",
     "text": [
      "Fechas train : 2021-10-01 00:00:00 --- 2022-04-01 00:00:00  (n=7)\n",
      "Fechas test  : 2022-05-01 00:00:00 --- 2022-05-01 00:00:00  (n=1)\n"
     ]
    },
    {
     "data": {
      "image/png": "[encoded data removed]",
      "text/plain": [
       "<Figure size 900x400 with 1 Axes>"
      ]
     },
     "metadata": {},
     "output_type": "display_data"
    }
   ],
   "source": [
    "# Separación datos train-test\n",
    "# ==============================================================================\n",
    "steps = 1\n",
    "datos_train = datos[:-steps]\n",
    "datos_test  = datos[-steps:]\n",
    "\n",
    "print(f\"Fechas train : {datos_train.index.min()} --- {datos_train.index.max()}  (n={len(datos_train)})\")\n",
    "print(f\"Fechas test  : {datos_test.index.min()} --- {datos_test.index.max()}  (n={len(datos_test)})\")\n",
    "\n",
    "fig, ax = plt.subplots(figsize=(9, 4))\n",
    "pd.concat([datos_train['y'],datos_test['y']]).plot(ax=ax, label='test')\n",
    "datos_train['y'].plot(ax=ax, label='train')\n",
    "ax.legend();"
   ]
  },
  {
   "cell_type": "markdown",
   "id": "a9f606a8-0400-4298-8893-203466857202",
   "metadata": {},
   "source": [
    "## ForecasterAutoreg"
   ]
  },
  {
   "cell_type": "code",
   "execution_count": 44,
   "id": "75cf612d-49df-4633-8a47-1ae2d0177373",
   "metadata": {},
   "outputs": [
    {
     "data": {
      "text/plain": [
       "================= \n",
       "ForecasterAutoreg \n",
       "================= \n",
       "Regressor: RandomForestRegressor(random_state=123) \n",
       "Lags: [1] \n",
       "Window size: 1 \n",
       "Included exogenous: False \n",
       "Type of exogenous variable: None \n",
       "Exogenous variables names: None \n",
       "Training range: [Timestamp('2021-10-01 00:00:00'), Timestamp('2022-04-01 00:00:00')] \n",
       "Training index type: DatetimeIndex \n",
       "Training index frequency: MS \n",
       "Regressor parameters: {'bootstrap': True, 'ccp_alpha': 0.0, 'criterion': 'squared_error', 'max_depth': None, 'max_features': 1.0, 'max_leaf_nodes': None, 'max_samples': None, 'min_impurity_decrease': 0.0, 'min_samples_leaf': 1, 'min_samples_split': 2, 'min_weight_fraction_leaf': 0.0, 'n_estimators': 100, 'n_jobs': None, 'oob_score': False, 'random_state': 123, 'verbose': 0, 'warm_start': False} \n",
       "Creation date: 2022-08-27 11:52:07 \n",
       "Last fit date: 2022-08-27 11:52:07 \n",
       "Skforecast version: 0.4.3 "
      ]
     },
     "execution_count": 44,
     "metadata": {},
     "output_type": "execute_result"
    }
   ],
   "source": [
    "# Crear y entrenar forecaster\n",
    "# ==============================================================================\n",
    "forecaster = ForecasterAutoreg(\n",
    "                regressor = RandomForestRegressor(random_state=123),\n",
    "                lags = 1\n",
    "             )\n",
    "\n",
    "forecaster.fit(y=datos_train['y'])\n",
    "forecaster"
   ]
  },
  {
   "cell_type": "markdown",
   "id": "968653bd-ee10-441c-a3d6-247bd49fb0b2",
   "metadata": {},
   "source": [
    "## Predicts"
   ]
  },
  {
   "cell_type": "code",
   "execution_count": 45,
   "id": "ae838931-57b3-4c19-bb9e-5e8fea6d01f9",
   "metadata": {},
   "outputs": [
    {
     "data": {
      "text/plain": [
       "2022-05-01   5437041.96\n",
       "Freq: MS, Name: pred, dtype: float64"
      ]
     },
     "execution_count": 45,
     "metadata": {},
     "output_type": "execute_result"
    }
   ],
   "source": [
    "# Predicciones\n",
    "# ==============================================================================\n",
    "steps = 1\n",
    "predicciones = forecaster.predict(steps=steps)\n",
    "predicciones"
   ]
  },
  {
   "cell_type": "code",
   "execution_count": 46,
   "id": "69781612-369f-4110-b8d9-31bbfae875ad",
   "metadata": {},
   "outputs": [],
   "source": [
    "df_final_real = pd.concat([datos_train['y'],datos_test['y']])\n",
    "df_final_pred = pd.concat([datos_train['y'],predicciones])"
   ]
  },
  {
   "cell_type": "code",
   "execution_count": 48,
   "id": "c5a7f55e-316e-4d15-b10f-8531e2f396d0",
   "metadata": {},
   "outputs": [
    {
     "data": {
      "image/png": "[encoded data removed]",
      "text/plain": [
       "<Figure size 1200x400 with 1 Axes>"
      ]
     },
     "metadata": {},
     "output_type": "display_data"
    }
   ],
   "source": [
    "# Gráfico\n",
    "# ==============================================================================\n",
    "fig, ax = plt.subplots(figsize=(12, 4))\n",
    "\n",
    "df_final_pred.plot(ax=ax, label='pred', color ='orange')\n",
    "df_final_real.plot(ax=ax, label='real')\n",
    "\n",
    "ax.legend();"
   ]
  },
  {
   "cell_type": "markdown",
   "id": "643fb493-a5ea-416f-a04b-0798c00f0063",
   "metadata": {},
   "source": [
    "## Metrics"
   ]
  },
  {
   "cell_type": "code",
   "execution_count": 49,
   "id": "61905f57-4b03-4994-8b6c-4bc73a4dd18b",
   "metadata": {},
   "outputs": [],
   "source": [
    "y_true = pd.Series(datos_test['y']),\n",
    "y_pred = predicciones"
   ]
  },
  {
   "cell_type": "code",
   "execution_count": 50,
   "id": "62300fac-37cb-4fc5-aa54-568439731ad7",
   "metadata": {},
   "outputs": [
    {
     "name": "stdout",
     "output_type": "stream",
     "text": [
      "Error de test (mse): 18115692486599.887\n"
     ]
    }
   ],
   "source": [
    "# Error test\n",
    "# ==============================================================================\n",
    "error_mse = mean_squared_error(\n",
    "                y_true,\n",
    "                y_pred\n",
    "            )\n",
    "\n",
    "print(f\"Error de test (mse): {error_mse}\")"
   ]
  },
  {
   "cell_type": "code",
   "execution_count": 51,
   "id": "96adf162-ca7f-42bc-bb2e-97b6ea8a3185",
   "metadata": {},
   "outputs": [
    {
     "name": "stderr",
     "output_type": "stream",
     "text": [
      "/Library/Frameworks/Python.framework/Versions/3.10/lib/python3.10/site-packages/sklearn/metrics/_regression.py:918: UndefinedMetricWarning: R^2 score is not well-defined with less than two samples.\n",
      "  warnings.warn(msg, UndefinedMetricWarning)\n"
     ]
    },
    {
     "data": {
      "text/plain": [
       "{'MAE': 4256253.339099999,\n",
       " 'MSE': 18115692486599.887,\n",
       " 'RMSE': 4256253.339099999,\n",
       " 'RMSLogE': 15.263899833396538,\n",
       " 'r2': nan}"
      ]
     },
     "execution_count": 51,
     "metadata": {},
     "output_type": "execute_result"
    }
   ],
   "source": [
    "process_metrics(y_true, y_pred )"
   ]
  },
  {
   "cell_type": "markdown",
   "id": "a843a0bd-9b14-4b3f-9ac0-29ce2d2d555a",
   "metadata": {},
   "source": [
    "## Hyperparameter Tuning"
   ]
  },
  {
   "cell_type": "code",
   "execution_count": 52,
   "id": "8b47f624-0f82-46c6-b770-2d77605ad4d6",
   "metadata": {},
   "outputs": [
    {
     "name": "stdout",
     "output_type": "stream",
     "text": [
      "Number of models compared: 20\n"
     ]
    },
    {
     "name": "stderr",
     "output_type": "stream",
     "text": [
      "loop lags_grid:   0%|                                               | 0/1 [00:00<?, ?it/s]\n",
      "loop param_grid:   0%|                                             | 0/20 [00:00<?, ?it/s]\u001b[A\n",
      "loop param_grid:  15%|█████▌                               | 3/20 [00:00<00:00, 19.49it/s]\u001b[A\n",
      "loop param_grid:  25%|█████████▎                           | 5/20 [00:01<00:03,  4.26it/s]\u001b[A\n",
      "loop param_grid:  40%|██████████████▊                      | 8/20 [00:01<00:01,  7.25it/s]\u001b[A\n",
      "loop param_grid:  50%|██████████████████                  | 10/20 [00:01<00:02,  4.35it/s]\u001b[A\n",
      "loop param_grid:  65%|███████████████████████▍            | 13/20 [00:02<00:01,  6.52it/s]\u001b[A\n",
      "loop param_grid:  75%|███████████████████████████         | 15/20 [00:02<00:01,  4.35it/s]\u001b[A\n",
      "loop param_grid:  90%|████████████████████████████████▍   | 18/20 [00:03<00:00,  6.23it/s]\u001b[A\n",
      "loop param_grid: 100%|████████████████████████████████████| 20/20 [00:04<00:00,  4.22it/s]\u001b[A\n",
      "loop lags_grid: 100%|███████████████████████████████████████| 1/1 [00:04<00:00,  4.01s/it]\u001b[A"
     ]
    },
    {
     "name": "stdout",
     "output_type": "stream",
     "text": [
      "`Forecaster` refitted using the best-found lags and parameters, and the whole data set: \n",
      "  Lags: [1] \n",
      "  Parameters: {'max_depth': 10, 'n_estimators': 50}\n",
      "  Backtesting metric: 12079040688756.1\n",
      "\n"
     ]
    },
    {
     "name": "stderr",
     "output_type": "stream",
     "text": [
      "\n"
     ]
    }
   ],
   "source": [
    "# Grid search de hiperparámetros\n",
    "# ==============================================================================\n",
    "steps = 1\n",
    "forecaster = ForecasterAutoreg(\n",
    "                regressor = RandomForestRegressor(random_state=123),\n",
    "                lags      = 1 # Este valor será remplazado en el grid search\n",
    "             )\n",
    "\n",
    "# Lags utilizados como predictores\n",
    "lags_grid = [1]\n",
    "\n",
    "# Hiperparámetros del regresor\n",
    "param_grid = {'n_estimators': [10,20,50,100, 500],\n",
    "              'max_depth': [2,3, 5, 10]}\n",
    "\n",
    "resultados_grid = grid_search_forecaster(\n",
    "                        forecaster         = forecaster,\n",
    "                        y                  = datos_train['y'],\n",
    "                        param_grid         = param_grid,\n",
    "                        lags_grid          = lags_grid,\n",
    "                        steps              = steps,\n",
    "                        refit              = True,\n",
    "                        metric             = 'mean_squared_error',\n",
    "                        initial_train_size = int(len(datos_train)*0.5),\n",
    "                        fixed_train_size   = False,\n",
    "                        return_best        = True,\n",
    "                        verbose            = False\n",
    "                   )"
   ]
  },
  {
   "cell_type": "code",
   "execution_count": 53,
   "id": "b6d8459b-d0f7-4ccf-a947-e91c3d3e55e9",
   "metadata": {},
   "outputs": [
    {
     "data": {
      "text/html": [
       "<div>\n",
       "<style scoped>\n",
       "    .dataframe tbody tr th:only-of-type {\n",
       "        vertical-align: middle;\n",
       "    }\n",
       "\n",
       "    .dataframe tbody tr th {\n",
       "        vertical-align: top;\n",
       "    }\n",
       "\n",
       "    .dataframe thead th {\n",
       "        text-align: right;\n",
       "    }\n",
       "</style>\n",
       "<table border=\"1\" class=\"dataframe\">\n",
       "  <thead>\n",
       "    <tr style=\"text-align: right;\">\n",
       "      <th></th>\n",
       "      <th>lags</th>\n",
       "      <th>params</th>\n",
       "      <th>metric</th>\n",
       "      <th>max_depth</th>\n",
       "      <th>n_estimators</th>\n",
       "    </tr>\n",
       "  </thead>\n",
       "  <tbody>\n",
       "    <tr>\n",
       "      <th>17</th>\n",
       "      <td>[1]</td>\n",
       "      <td>{'max_depth': 10, 'n_estimators': 50}</td>\n",
       "      <td>12079040688756.10</td>\n",
       "      <td>10</td>\n",
       "      <td>50</td>\n",
       "    </tr>\n",
       "    <tr>\n",
       "      <th>7</th>\n",
       "      <td>[1]</td>\n",
       "      <td>{'max_depth': 3, 'n_estimators': 50}</td>\n",
       "      <td>12079040688756.10</td>\n",
       "      <td>3</td>\n",
       "      <td>50</td>\n",
       "    </tr>\n",
       "    <tr>\n",
       "      <th>12</th>\n",
       "      <td>[1]</td>\n",
       "      <td>{'max_depth': 5, 'n_estimators': 50}</td>\n",
       "      <td>12079040688756.10</td>\n",
       "      <td>5</td>\n",
       "      <td>50</td>\n",
       "    </tr>\n",
       "    <tr>\n",
       "      <th>2</th>\n",
       "      <td>[1]</td>\n",
       "      <td>{'max_depth': 2, 'n_estimators': 50}</td>\n",
       "      <td>12113980798079.72</td>\n",
       "      <td>2</td>\n",
       "      <td>50</td>\n",
       "    </tr>\n",
       "    <tr>\n",
       "      <th>15</th>\n",
       "      <td>[1]</td>\n",
       "      <td>{'max_depth': 10, 'n_estimators': 10}</td>\n",
       "      <td>12280017456502.16</td>\n",
       "      <td>10</td>\n",
       "      <td>10</td>\n",
       "    </tr>\n",
       "  </tbody>\n",
       "</table>\n",
       "</div>"
      ],
      "text/plain": [
       "   lags                                 params            metric  max_depth  \\\n",
       "17  [1]  {'max_depth': 10, 'n_estimators': 50} 12079040688756.10         10   \n",
       "7   [1]   {'max_depth': 3, 'n_estimators': 50} 12079040688756.10          3   \n",
       "12  [1]   {'max_depth': 5, 'n_estimators': 50} 12079040688756.10          5   \n",
       "2   [1]   {'max_depth': 2, 'n_estimators': 50} 12113980798079.72          2   \n",
       "15  [1]  {'max_depth': 10, 'n_estimators': 10} 12280017456502.16         10   \n",
       "\n",
       "    n_estimators  \n",
       "17            50  \n",
       "7             50  \n",
       "12            50  \n",
       "2             50  \n",
       "15            10  "
      ]
     },
     "execution_count": 53,
     "metadata": {},
     "output_type": "execute_result"
    }
   ],
   "source": [
    "# Resultados Grid Search\n",
    "# ==============================================================================\n",
    "resultados_grid.head()"
   ]
  },
  {
   "cell_type": "code",
   "execution_count": 54,
   "id": "fc2dc2c0-6abc-4fce-ac9e-810c440bdd78",
   "metadata": {},
   "outputs": [],
   "source": [
    "# Crear y entrenar forecaster con mejores hiperparámetros\n",
    "# ==============================================================================\n",
    "regressor = RandomForestRegressor(max_depth=3, n_estimators=500, random_state=123)\n",
    "forecaster = ForecasterAutoreg(\n",
    "                regressor = regressor,\n",
    "                lags      = 1\n",
    "             )\n",
    "\n",
    "forecaster.fit(y=datos_train['y'])"
   ]
  },
  {
   "cell_type": "markdown",
   "id": "b1f2e2e3-5551-4a86-819f-b73c92c6bd9b",
   "metadata": {},
   "source": [
    "## Predicts"
   ]
  },
  {
   "cell_type": "code",
   "execution_count": 55,
   "id": "4921447a-116e-40b2-b15e-39029f4de2c4",
   "metadata": {},
   "outputs": [],
   "source": [
    "# Predicciones\n",
    "# ==============================================================================\n",
    "predicciones = forecaster.predict(steps=steps)"
   ]
  },
  {
   "cell_type": "code",
   "execution_count": 56,
   "id": "67a63af4-3507-4df4-aba5-1bc6bee4e756",
   "metadata": {},
   "outputs": [],
   "source": [
    "df_final_real = pd.concat([datos_train['y'],datos_test['y']])\n",
    "df_final_pred = pd.concat([datos_train['y'],predicciones])"
   ]
  },
  {
   "cell_type": "code",
   "execution_count": 57,
   "id": "512b9c6c-f300-49b3-b4a5-17c5d86227cd",
   "metadata": {},
   "outputs": [
    {
     "data": {
      "image/png": "[encoded data removed]",
      "text/plain": [
       "<Figure size 1200x400 with 1 Axes>"
      ]
     },
     "metadata": {},
     "output_type": "display_data"
    }
   ],
   "source": [
    "# Gráfico\n",
    "# ==============================================================================\n",
    "fig, ax = plt.subplots(figsize=(12, 4))\n",
    "\n",
    "df_final_pred.plot(ax=ax, label='pred', color ='orange')\n",
    "df_final_real.plot(ax=ax, label='real')\n",
    "\n",
    "ax.legend();"
   ]
  },
  {
   "cell_type": "markdown",
   "id": "bd938ffb-d9d4-41e3-aa45-767b50ee57f0",
   "metadata": {},
   "source": [
    "## Metrics"
   ]
  },
  {
   "cell_type": "code",
   "execution_count": 58,
   "id": "5dc0fa1c-e08b-4e28-a11d-dc0f1ad588bd",
   "metadata": {},
   "outputs": [],
   "source": [
    "y_true = datos_test['y'],\n",
    "y_pred = predicciones"
   ]
  },
  {
   "cell_type": "code",
   "execution_count": 59,
   "id": "bb7bafc1-d73c-490e-958f-667cbd8f652f",
   "metadata": {},
   "outputs": [
    {
     "name": "stdout",
     "output_type": "stream",
     "text": [
      "Error de test (mse): 18346706099192.527\n"
     ]
    }
   ],
   "source": [
    "# Error test\n",
    "# ==============================================================================\n",
    "error_mse = mean_squared_error(\n",
    "                y_true,\n",
    "                y_pred\n",
    "            )\n",
    "\n",
    "print(f\"Error de test (mse): {error_mse}\")"
   ]
  },
  {
   "cell_type": "code",
   "execution_count": 60,
   "id": "3b3d9e64-d9ce-4fff-b3a3-5d9e2b3f3800",
   "metadata": {},
   "outputs": [
    {
     "name": "stderr",
     "output_type": "stream",
     "text": [
      "/Library/Frameworks/Python.framework/Versions/3.10/lib/python3.10/site-packages/sklearn/metrics/_regression.py:918: UndefinedMetricWarning: R^2 score is not well-defined with less than two samples.\n",
      "  warnings.warn(msg, UndefinedMetricWarning)\n"
     ]
    },
    {
     "data": {
      "text/plain": [
       "{'MAE': 4283305.510840025,\n",
       " 'MSE': 18346706099192.527,\n",
       " 'RMSE': 4283305.510840025,\n",
       " 'RMSLogE': 15.270235585092568,\n",
       " 'r2': nan}"
      ]
     },
     "execution_count": 60,
     "metadata": {},
     "output_type": "execute_result"
    }
   ],
   "source": [
    "process_metrics(y_true, y_pred )"
   ]
  },
  {
   "cell_type": "markdown",
   "id": "36d293be-f4e3-4358-9cba-f6095b21f9c7",
   "metadata": {},
   "source": [
    "## Predecimos el mes de Junio"
   ]
  },
  {
   "cell_type": "code",
   "execution_count": 61,
   "id": "780416bc-b902-4561-86ee-f36e909e4341",
   "metadata": {},
   "outputs": [
    {
     "data": {
      "text/html": [
       "<div>\n",
       "<style scoped>\n",
       "    .dataframe tbody tr th:only-of-type {\n",
       "        vertical-align: middle;\n",
       "    }\n",
       "\n",
       "    .dataframe tbody tr th {\n",
       "        vertical-align: top;\n",
       "    }\n",
       "\n",
       "    .dataframe thead th {\n",
       "        text-align: right;\n",
       "    }\n",
       "</style>\n",
       "<table border=\"1\" class=\"dataframe\">\n",
       "  <thead>\n",
       "    <tr style=\"text-align: right;\">\n",
       "      <th></th>\n",
       "      <th>period</th>\n",
       "      <th>freq</th>\n",
       "      <th>freqFinanced</th>\n",
       "      <th>totalAmount</th>\n",
       "      <th>meanAmount</th>\n",
       "      <th>totalFinanced</th>\n",
       "      <th>meanFinanced</th>\n",
       "      <th>freqPayers</th>\n",
       "      <th>freqReceiver</th>\n",
       "    </tr>\n",
       "  </thead>\n",
       "  <tbody>\n",
       "    <tr>\n",
       "      <th>0</th>\n",
       "      <td>2021-10-01</td>\n",
       "      <td>5</td>\n",
       "      <td>1</td>\n",
       "      <td>35902.64</td>\n",
       "      <td>7180.53</td>\n",
       "      <td>10520.15</td>\n",
       "      <td>2104.03</td>\n",
       "      <td>5</td>\n",
       "      <td>5</td>\n",
       "    </tr>\n",
       "    <tr>\n",
       "      <th>1</th>\n",
       "      <td>2021-11-01</td>\n",
       "      <td>13</td>\n",
       "      <td>8</td>\n",
       "      <td>268349.19</td>\n",
       "      <td>20642.25</td>\n",
       "      <td>119352.51</td>\n",
       "      <td>9180.96</td>\n",
       "      <td>13</td>\n",
       "      <td>12</td>\n",
       "    </tr>\n",
       "    <tr>\n",
       "      <th>2</th>\n",
       "      <td>2021-12-01</td>\n",
       "      <td>17</td>\n",
       "      <td>7</td>\n",
       "      <td>753946.49</td>\n",
       "      <td>44349.79</td>\n",
       "      <td>592831.07</td>\n",
       "      <td>34872.42</td>\n",
       "      <td>16</td>\n",
       "      <td>16</td>\n",
       "    </tr>\n",
       "    <tr>\n",
       "      <th>3</th>\n",
       "      <td>2022-01-01</td>\n",
       "      <td>107</td>\n",
       "      <td>43</td>\n",
       "      <td>7283045.52</td>\n",
       "      <td>68065.85</td>\n",
       "      <td>5219511.13</td>\n",
       "      <td>48780.48</td>\n",
       "      <td>83</td>\n",
       "      <td>56</td>\n",
       "    </tr>\n",
       "    <tr>\n",
       "      <th>4</th>\n",
       "      <td>2022-02-01</td>\n",
       "      <td>183</td>\n",
       "      <td>45</td>\n",
       "      <td>7100660.51</td>\n",
       "      <td>38801.42</td>\n",
       "      <td>4485712.42</td>\n",
       "      <td>24512.09</td>\n",
       "      <td>115</td>\n",
       "      <td>65</td>\n",
       "    </tr>\n",
       "    <tr>\n",
       "      <th>5</th>\n",
       "      <td>2022-03-01</td>\n",
       "      <td>225</td>\n",
       "      <td>49</td>\n",
       "      <td>5765920.25</td>\n",
       "      <td>25626.31</td>\n",
       "      <td>2344379.98</td>\n",
       "      <td>10419.47</td>\n",
       "      <td>137</td>\n",
       "      <td>68</td>\n",
       "    </tr>\n",
       "    <tr>\n",
       "      <th>6</th>\n",
       "      <td>2022-04-01</td>\n",
       "      <td>269</td>\n",
       "      <td>50</td>\n",
       "      <td>5042399.69</td>\n",
       "      <td>18744.98</td>\n",
       "      <td>3057870.38</td>\n",
       "      <td>11367.55</td>\n",
       "      <td>153</td>\n",
       "      <td>73</td>\n",
       "    </tr>\n",
       "    <tr>\n",
       "      <th>7</th>\n",
       "      <td>2022-05-01</td>\n",
       "      <td>73</td>\n",
       "      <td>18</td>\n",
       "      <td>1180788.62</td>\n",
       "      <td>16175.19</td>\n",
       "      <td>714735.77</td>\n",
       "      <td>9790.90</td>\n",
       "      <td>62</td>\n",
       "      <td>35</td>\n",
       "    </tr>\n",
       "  </tbody>\n",
       "</table>\n",
       "</div>"
      ],
      "text/plain": [
       "      period  freq  freqFinanced  totalAmount  meanAmount  totalFinanced  \\\n",
       "0 2021-10-01     5             1     35902.64     7180.53       10520.15   \n",
       "1 2021-11-01    13             8    268349.19    20642.25      119352.51   \n",
       "2 2021-12-01    17             7    753946.49    44349.79      592831.07   \n",
       "3 2022-01-01   107            43   7283045.52    68065.85     5219511.13   \n",
       "4 2022-02-01   183            45   7100660.51    38801.42     4485712.42   \n",
       "5 2022-03-01   225            49   5765920.25    25626.31     2344379.98   \n",
       "6 2022-04-01   269            50   5042399.69    18744.98     3057870.38   \n",
       "7 2022-05-01    73            18   1180788.62    16175.19      714735.77   \n",
       "\n",
       "   meanFinanced  freqPayers  freqReceiver  \n",
       "0       2104.03           5             5  \n",
       "1       9180.96          13            12  \n",
       "2      34872.42          16            16  \n",
       "3      48780.48          83            56  \n",
       "4      24512.09         115            65  \n",
       "5      10419.47         137            68  \n",
       "6      11367.55         153            73  \n",
       "7       9790.90          62            35  "
      ]
     },
     "execution_count": 61,
     "metadata": {},
     "output_type": "execute_result"
    }
   ],
   "source": [
    "# Descarga de datos\n",
    "# ==============================================================================\n",
    "datos = pd.read_csv('data/data_final.csv', parse_dates = ['period'])\n",
    "datos = datos.drop('Unnamed: 0', axis=1)\n",
    "datos"
   ]
  },
  {
   "cell_type": "code",
   "execution_count": 62,
   "id": "4ffbbf14-eb2a-485d-a4f9-ff5c844915fc",
   "metadata": {},
   "outputs": [
    {
     "data": {
      "text/html": [
       "<div>\n",
       "<style scoped>\n",
       "    .dataframe tbody tr th:only-of-type {\n",
       "        vertical-align: middle;\n",
       "    }\n",
       "\n",
       "    .dataframe tbody tr th {\n",
       "        vertical-align: top;\n",
       "    }\n",
       "\n",
       "    .dataframe thead th {\n",
       "        text-align: right;\n",
       "    }\n",
       "</style>\n",
       "<table border=\"1\" class=\"dataframe\">\n",
       "  <thead>\n",
       "    <tr style=\"text-align: right;\">\n",
       "      <th></th>\n",
       "      <th>qPayments</th>\n",
       "      <th>freqFinanced</th>\n",
       "      <th>y</th>\n",
       "      <th>meanAmount</th>\n",
       "      <th>totalFinanced</th>\n",
       "      <th>meanFinanced</th>\n",
       "      <th>freqPayers</th>\n",
       "      <th>freqReceiver</th>\n",
       "    </tr>\n",
       "    <tr>\n",
       "      <th>period</th>\n",
       "      <th></th>\n",
       "      <th></th>\n",
       "      <th></th>\n",
       "      <th></th>\n",
       "      <th></th>\n",
       "      <th></th>\n",
       "      <th></th>\n",
       "      <th></th>\n",
       "    </tr>\n",
       "  </thead>\n",
       "  <tbody>\n",
       "    <tr>\n",
       "      <th>2021-10-01</th>\n",
       "      <td>5</td>\n",
       "      <td>1</td>\n",
       "      <td>35902.64</td>\n",
       "      <td>7180.53</td>\n",
       "      <td>10520.15</td>\n",
       "      <td>2104.03</td>\n",
       "      <td>5</td>\n",
       "      <td>5</td>\n",
       "    </tr>\n",
       "    <tr>\n",
       "      <th>2021-11-01</th>\n",
       "      <td>13</td>\n",
       "      <td>8</td>\n",
       "      <td>268349.19</td>\n",
       "      <td>20642.25</td>\n",
       "      <td>119352.51</td>\n",
       "      <td>9180.96</td>\n",
       "      <td>13</td>\n",
       "      <td>12</td>\n",
       "    </tr>\n",
       "    <tr>\n",
       "      <th>2021-12-01</th>\n",
       "      <td>17</td>\n",
       "      <td>7</td>\n",
       "      <td>753946.49</td>\n",
       "      <td>44349.79</td>\n",
       "      <td>592831.07</td>\n",
       "      <td>34872.42</td>\n",
       "      <td>16</td>\n",
       "      <td>16</td>\n",
       "    </tr>\n",
       "    <tr>\n",
       "      <th>2022-01-01</th>\n",
       "      <td>107</td>\n",
       "      <td>43</td>\n",
       "      <td>7283045.52</td>\n",
       "      <td>68065.85</td>\n",
       "      <td>5219511.13</td>\n",
       "      <td>48780.48</td>\n",
       "      <td>83</td>\n",
       "      <td>56</td>\n",
       "    </tr>\n",
       "    <tr>\n",
       "      <th>2022-02-01</th>\n",
       "      <td>183</td>\n",
       "      <td>45</td>\n",
       "      <td>7100660.51</td>\n",
       "      <td>38801.42</td>\n",
       "      <td>4485712.42</td>\n",
       "      <td>24512.09</td>\n",
       "      <td>115</td>\n",
       "      <td>65</td>\n",
       "    </tr>\n",
       "    <tr>\n",
       "      <th>2022-03-01</th>\n",
       "      <td>225</td>\n",
       "      <td>49</td>\n",
       "      <td>5765920.25</td>\n",
       "      <td>25626.31</td>\n",
       "      <td>2344379.98</td>\n",
       "      <td>10419.47</td>\n",
       "      <td>137</td>\n",
       "      <td>68</td>\n",
       "    </tr>\n",
       "    <tr>\n",
       "      <th>2022-04-01</th>\n",
       "      <td>269</td>\n",
       "      <td>50</td>\n",
       "      <td>5042399.69</td>\n",
       "      <td>18744.98</td>\n",
       "      <td>3057870.38</td>\n",
       "      <td>11367.55</td>\n",
       "      <td>153</td>\n",
       "      <td>73</td>\n",
       "    </tr>\n",
       "    <tr>\n",
       "      <th>2022-05-01</th>\n",
       "      <td>73</td>\n",
       "      <td>18</td>\n",
       "      <td>1180788.62</td>\n",
       "      <td>16175.19</td>\n",
       "      <td>714735.77</td>\n",
       "      <td>9790.90</td>\n",
       "      <td>62</td>\n",
       "      <td>35</td>\n",
       "    </tr>\n",
       "  </tbody>\n",
       "</table>\n",
       "</div>"
      ],
      "text/plain": [
       "            qPayments  freqFinanced          y  meanAmount  totalFinanced  \\\n",
       "period                                                                      \n",
       "2021-10-01          5             1   35902.64     7180.53       10520.15   \n",
       "2021-11-01         13             8  268349.19    20642.25      119352.51   \n",
       "2021-12-01         17             7  753946.49    44349.79      592831.07   \n",
       "2022-01-01        107            43 7283045.52    68065.85     5219511.13   \n",
       "2022-02-01        183            45 7100660.51    38801.42     4485712.42   \n",
       "2022-03-01        225            49 5765920.25    25626.31     2344379.98   \n",
       "2022-04-01        269            50 5042399.69    18744.98     3057870.38   \n",
       "2022-05-01         73            18 1180788.62    16175.19      714735.77   \n",
       "\n",
       "            meanFinanced  freqPayers  freqReceiver  \n",
       "period                                              \n",
       "2021-10-01       2104.03           5             5  \n",
       "2021-11-01       9180.96          13            12  \n",
       "2021-12-01      34872.42          16            16  \n",
       "2022-01-01      48780.48          83            56  \n",
       "2022-02-01      24512.09         115            65  \n",
       "2022-03-01      10419.47         137            68  \n",
       "2022-04-01      11367.55         153            73  \n",
       "2022-05-01       9790.90          62            35  "
      ]
     },
     "execution_count": 62,
     "metadata": {},
     "output_type": "execute_result"
    }
   ],
   "source": [
    "# Preparación del dato\n",
    "# ==============================================================================\n",
    "datos = datos.set_index('period')\n",
    "datos = datos.rename(columns={'totalAmount': 'y', 'freq': 'qPayments'})\n",
    "datos = datos.asfreq('MS')\n",
    "datos = datos.sort_index()\n",
    "datos"
   ]
  },
  {
   "cell_type": "code",
   "execution_count": 63,
   "id": "b8aa685a-d86d-474c-a75d-ffceaf29397e",
   "metadata": {},
   "outputs": [
    {
     "data": {
      "text/plain": [
       "array([5464094.13084002])"
      ]
     },
     "execution_count": 63,
     "metadata": {},
     "output_type": "execute_result"
    }
   ],
   "source": [
    "# Predicciones\n",
    "# ==============================================================================\n",
    "predicciones = forecaster.predict(steps=steps)\n",
    "predicciones.values"
   ]
  },
  {
   "cell_type": "code",
   "execution_count": 64,
   "id": "efe046eb-bd17-4b01-a211-5c4dc7e301ca",
   "metadata": {},
   "outputs": [],
   "source": [
    "pred = pd.DataFrame(predicciones.values, columns=['y'], index=['2022-06-01 00:00:00'])\n",
    "pred.index = pred.index.astype(\"datetime64[ns]\")"
   ]
  },
  {
   "cell_type": "code",
   "execution_count": 65,
   "id": "d9c2fcf7-7769-4eef-ba48-68cd289e8138",
   "metadata": {},
   "outputs": [],
   "source": [
    "df_final_real = pd.DataFrame(datos['y'], columns=['y'])\n",
    "df_final_pred = pd.concat([pd.DataFrame(datos['y'], columns=['y']),pred])"
   ]
  },
  {
   "cell_type": "code",
   "execution_count": 66,
   "id": "b7c84c0f-8620-4e42-a428-10b1d2df1855",
   "metadata": {},
   "outputs": [
    {
     "data": {
      "text/html": [
       "<div>\n",
       "<style scoped>\n",
       "    .dataframe tbody tr th:only-of-type {\n",
       "        vertical-align: middle;\n",
       "    }\n",
       "\n",
       "    .dataframe tbody tr th {\n",
       "        vertical-align: top;\n",
       "    }\n",
       "\n",
       "    .dataframe thead th {\n",
       "        text-align: right;\n",
       "    }\n",
       "</style>\n",
       "<table border=\"1\" class=\"dataframe\">\n",
       "  <thead>\n",
       "    <tr style=\"text-align: right;\">\n",
       "      <th></th>\n",
       "      <th>y</th>\n",
       "    </tr>\n",
       "  </thead>\n",
       "  <tbody>\n",
       "    <tr>\n",
       "      <th>2021-10-01</th>\n",
       "      <td>35902.64</td>\n",
       "    </tr>\n",
       "    <tr>\n",
       "      <th>2021-11-01</th>\n",
       "      <td>268349.19</td>\n",
       "    </tr>\n",
       "    <tr>\n",
       "      <th>2021-12-01</th>\n",
       "      <td>753946.49</td>\n",
       "    </tr>\n",
       "    <tr>\n",
       "      <th>2022-01-01</th>\n",
       "      <td>7283045.52</td>\n",
       "    </tr>\n",
       "    <tr>\n",
       "      <th>2022-02-01</th>\n",
       "      <td>7100660.51</td>\n",
       "    </tr>\n",
       "    <tr>\n",
       "      <th>2022-03-01</th>\n",
       "      <td>5765920.25</td>\n",
       "    </tr>\n",
       "    <tr>\n",
       "      <th>2022-04-01</th>\n",
       "      <td>5042399.69</td>\n",
       "    </tr>\n",
       "    <tr>\n",
       "      <th>2022-05-01</th>\n",
       "      <td>1180788.62</td>\n",
       "    </tr>\n",
       "    <tr>\n",
       "      <th>2022-06-01</th>\n",
       "      <td>5464094.13</td>\n",
       "    </tr>\n",
       "  </tbody>\n",
       "</table>\n",
       "</div>"
      ],
      "text/plain": [
       "                    y\n",
       "2021-10-01   35902.64\n",
       "2021-11-01  268349.19\n",
       "2021-12-01  753946.49\n",
       "2022-01-01 7283045.52\n",
       "2022-02-01 7100660.51\n",
       "2022-03-01 5765920.25\n",
       "2022-04-01 5042399.69\n",
       "2022-05-01 1180788.62\n",
       "2022-06-01 5464094.13"
      ]
     },
     "execution_count": 66,
     "metadata": {},
     "output_type": "execute_result"
    }
   ],
   "source": [
    "df_final_pred"
   ]
  },
  {
   "cell_type": "code",
   "execution_count": 67,
   "id": "1a35c131-edb4-49b8-a348-076036440990",
   "metadata": {},
   "outputs": [
    {
     "data": {
      "text/plain": [
       "<AxesSubplot:xlabel='period'>"
      ]
     },
     "execution_count": 67,
     "metadata": {},
     "output_type": "execute_result"
    },
    {
     "data": {
      "image/png": "[encoded data removed]",
      "text/plain": [
       "<Figure size 1200x400 with 1 Axes>"
      ]
     },
     "metadata": {},
     "output_type": "display_data"
    }
   ],
   "source": [
    "# Gráfico\n",
    "# ==============================================================================\n",
    "fig, ax = plt.subplots(figsize=(12, 4))\n",
    "df_final_pred.plot(ax=ax, label='pred', color ='orange')\n",
    "df_final_real.plot(ax=ax, label='real')\n",
    "#ax.legend();"
   ]
  },
  {
   "cell_type": "code",
   "execution_count": null,
   "id": "6cfe2462-0265-49ba-8d2d-7236ff35424e",
   "metadata": {},
   "outputs": [],
   "source": []
  },
  {
   "cell_type": "code",
   "execution_count": null,
   "id": "d36661ba-6294-4d84-b622-bd15ae4bb714",
   "metadata": {},
   "outputs": [],
   "source": []
  }
 ],
 "metadata": {
  "kernelspec": {
   "display_name": "Python 3 (ipykernel)",
   "language": "python",
   "name": "python3"
  },
  "language_info": {
   "codemirror_mode": {
    "name": "ipython",
    "version": 3
   },
   "file_extension": ".py",
   "mimetype": "text/x-python",
   "name": "python",
   "nbconvert_exporter": "python",
   "pygments_lexer": "ipython3",
   "version": "3.10.2"
  }
 },
 "nbformat": 4,
 "nbformat_minor": 5
}
