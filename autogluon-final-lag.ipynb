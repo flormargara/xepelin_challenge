{
 "cells": [
  {
   "cell_type": "code",
   "execution_count": 120,
   "id": "4b46eba5-f199-4584-9f4d-07baa8d10277",
   "metadata": {},
   "outputs": [],
   "source": [
    "import pandas as pd\n",
    "import numpy as np\n",
    "from matplotlib import pyplot as plt\n",
    "import seaborn as sns\n",
    "from sklearn.metrics import mean_squared_error, mean_absolute_error, r2_score\n",
    "from autogluon.timeseries import TimeSeriesPredictor, TimeSeriesDataFrame"
   ]
  },
  {
   "cell_type": "code",
   "execution_count": 79,
   "id": "a5ba8925-8455-47c7-a594-1e0454e5f1f7",
   "metadata": {},
   "outputs": [],
   "source": [
    "df2 = pd.read_csv('data_final_lag.csv', parse_dates=['period'] ,sep=';')"
   ]
  },
  {
   "cell_type": "code",
   "execution_count": 80,
   "id": "d386223d-b04e-4771-8495-117b687072fc",
   "metadata": {},
   "outputs": [],
   "source": [
    "df2 = df2.drop(['Unnamed: 0',], axis=1)\n",
    "df2.rename(columns = {'totalAmount':'target'}, inplace = True)\n",
    "df2['lit'] = 'A'"
   ]
  },
  {
   "cell_type": "code",
   "execution_count": 81,
   "id": "6020868e-6de7-484a-9a66-74335984acbc",
   "metadata": {},
   "outputs": [],
   "source": [
    "df = df2.copy()\n",
    "df.drop(df.tail(1).index,inplace=True)"
   ]
  },
  {
   "cell_type": "code",
   "execution_count": 82,
   "id": "cc44a777-6469-47bd-a202-21e425645bdf",
   "metadata": {},
   "outputs": [
    {
     "name": "stdout",
     "output_type": "stream",
     "text": [
      "<class 'pandas.core.frame.DataFrame'>\n",
      "RangeIndex: 7 entries, 0 to 6\n",
      "Data columns (total 10 columns):\n",
      " #   Column         Non-Null Count  Dtype         \n",
      "---  ------         --------------  -----         \n",
      " 0   period         7 non-null      datetime64[ns]\n",
      " 1   freq           7 non-null      int64         \n",
      " 2   freqFinanced   7 non-null      int64         \n",
      " 3   target         7 non-null      float64       \n",
      " 4   meanAmount     7 non-null      float64       \n",
      " 5   totalFinanced  7 non-null      float64       \n",
      " 6   meanFinanced   7 non-null      float64       \n",
      " 7   freqPayers     7 non-null      int64         \n",
      " 8   freqReceiver   7 non-null      int64         \n",
      " 9   lit            7 non-null      object        \n",
      "dtypes: datetime64[ns](1), float64(4), int64(4), object(1)\n",
      "memory usage: 688.0+ bytes\n"
     ]
    }
   ],
   "source": [
    "df.info()"
   ]
  },
  {
   "cell_type": "code",
   "execution_count": 83,
   "id": "4ff4854e-13e1-4617-ad49-f1e506a03d91",
   "metadata": {},
   "outputs": [],
   "source": [
    "train_data = TimeSeriesDataFrame.from_data_frame(\n",
    "    df[['lit','period','target']],\n",
    "    id_column='lit',\n",
    "    timestamp_column=\"period\",\n",
    ")"
   ]
  },
  {
   "cell_type": "code",
   "execution_count": 84,
   "id": "258d2b80-32be-42fd-b976-bf0f4f2a1d24",
   "metadata": {},
   "outputs": [
    {
     "data": {
      "text/html": [
       "<div>\n",
       "<style scoped>\n",
       "    .dataframe tbody tr th:only-of-type {\n",
       "        vertical-align: middle;\n",
       "    }\n",
       "\n",
       "    .dataframe tbody tr th {\n",
       "        vertical-align: top;\n",
       "    }\n",
       "\n",
       "    .dataframe thead th {\n",
       "        text-align: right;\n",
       "    }\n",
       "</style>\n",
       "<table border=\"1\" class=\"dataframe\">\n",
       "  <thead>\n",
       "    <tr style=\"text-align: right;\">\n",
       "      <th></th>\n",
       "      <th>target</th>\n",
       "    </tr>\n",
       "    <tr>\n",
       "      <th>timestamp</th>\n",
       "      <th></th>\n",
       "    </tr>\n",
       "  </thead>\n",
       "  <tbody>\n",
       "    <tr>\n",
       "      <th>2021-11-01</th>\n",
       "      <td>35902.64</td>\n",
       "    </tr>\n",
       "    <tr>\n",
       "      <th>2021-12-01</th>\n",
       "      <td>268349.19</td>\n",
       "    </tr>\n",
       "    <tr>\n",
       "      <th>2022-01-01</th>\n",
       "      <td>753946.49</td>\n",
       "    </tr>\n",
       "    <tr>\n",
       "      <th>2022-02-01</th>\n",
       "      <td>7283045.52</td>\n",
       "    </tr>\n",
       "    <tr>\n",
       "      <th>2022-03-01</th>\n",
       "      <td>7100660.51</td>\n",
       "    </tr>\n",
       "    <tr>\n",
       "      <th>2022-04-01</th>\n",
       "      <td>5765920.25</td>\n",
       "    </tr>\n",
       "    <tr>\n",
       "      <th>2022-05-01</th>\n",
       "      <td>5042399.69</td>\n",
       "    </tr>\n",
       "  </tbody>\n",
       "</table>\n",
       "</div>"
      ],
      "text/plain": [
       "                target\n",
       "timestamp             \n",
       "2021-11-01    35902.64\n",
       "2021-12-01   268349.19\n",
       "2022-01-01   753946.49\n",
       "2022-02-01  7283045.52\n",
       "2022-03-01  7100660.51\n",
       "2022-04-01  5765920.25\n",
       "2022-05-01  5042399.69"
      ]
     },
     "execution_count": 84,
     "metadata": {},
     "output_type": "execute_result"
    }
   ],
   "source": [
    "train_data.loc['A']"
   ]
  },
  {
   "cell_type": "code",
   "execution_count": 85,
   "id": "8b9b1df4-660c-48c5-8d01-6013962cc03e",
   "metadata": {},
   "outputs": [
    {
     "data": {
      "text/plain": [
       "<matplotlib.legend.Legend at 0x7f6fe6ff12b0>"
      ]
     },
     "execution_count": 85,
     "metadata": {},
     "output_type": "execute_result"
    },
    {
     "data": {
      "image/png": "[encoded data removed]",
      "text/plain": [
       "<Figure size 1440x216 with 1 Axes>"
      ]
     },
     "metadata": {
      "needs_background": "light"
     },
     "output_type": "display_data"
    }
   ],
   "source": [
    "plt.figure(figsize=(20, 3))\n",
    "for country in [\"A\"]:\n",
    "    plt.plot(train_data.loc[country], label='totalAmount')\n",
    "plt.legend()"
   ]
  },
  {
   "cell_type": "code",
   "execution_count": 86,
   "id": "df8b1e8e-eb16-4e71-a335-03efb35a3033",
   "metadata": {},
   "outputs": [],
   "source": [
    "prediction_length = 1\n",
    "\n",
    "test_data = train_data.copy()  # the full data set\n",
    "\n",
    "# the data set with the last prediction_length time steps included, i.e., akin to `a[:-5]`\n",
    "train_data = train_data.slice_by_timestep(slice(None, -prediction_length))"
   ]
  },
  {
   "cell_type": "code",
   "execution_count": 87,
   "id": "60da1b12-a0eb-42ac-95ba-fe2c919dd487",
   "metadata": {},
   "outputs": [
    {
     "data": {
      "text/plain": [
       "<matplotlib.legend.Legend at 0x7f6fe6eda700>"
      ]
     },
     "execution_count": 87,
     "metadata": {},
     "output_type": "execute_result"
    },
    {
     "data": {
      "image/png": "[encoded data removed]",
      "text/plain": [
       "<Figure size 1440x216 with 1 Axes>"
      ]
     },
     "metadata": {
      "needs_background": "light"
     },
     "output_type": "display_data"
    }
   ],
   "source": [
    "plt.figure(figsize=(20, 3))\n",
    "plt.plot(test_data.loc['A'], label=\"test\")\n",
    "plt.plot(train_data.loc['A'], label=\"train\")\n",
    "\n",
    "test_range = (\n",
    "    test_data.loc['A'].index.max(),\n",
    "    train_data.loc['A'].index.max(),\n",
    ")\n",
    "\n",
    "plt.fill_betweenx(\n",
    "    y=(0, test_data.loc['A'][\"target\"].max()),\n",
    "    x1=test_range[0],\n",
    "    x2=test_range[1],\n",
    "    alpha=0.1,\n",
    "    label=\"test forecast horizon\",\n",
    ")\n",
    "\n",
    "plt.legend()"
   ]
  },
  {
   "cell_type": "code",
   "execution_count": 88,
   "id": "c5e7f7a9-11a0-4fb0-931f-9b699e31abc9",
   "metadata": {},
   "outputs": [
    {
     "name": "stderr",
     "output_type": "stream",
     "text": [
      "Warning: path already exists! This predictor may overwrite an existing predictor! path=\"autogluon-xepelinforecast\"\n",
      "Learner random seed set to 0\n",
      "presets is set to low_quality\n",
      "================ TimeSeriesPredictor ================\n",
      "TimeSeriesPredictor.fit() called\n",
      "Setting presets to: low_quality\n",
      "Fitting with arguments:\n",
      "{'evaluation_metric': 'MAPE',\n",
      " 'hyperparameter_tune_kwargs': None,\n",
      " 'hyperparameters': 'toy',\n",
      " 'prediction_length': 1,\n",
      " 'target_column': 'target',\n",
      " 'time_limit': None}\n",
      "Provided training data set with 6 rows, 1 items. Average time series length is 6.0.\n",
      "Training artifacts will be saved to: /shared_folder/modelos/scoreComportamental/v1.3/class/Untitled Folder/autogluon-xepelinforecast\n",
      "=====================================================\n",
      "Validation data is None, will hold the last prediction_length 1 time steps out to use as validation set.\n",
      "AutoGluon will save models to autogluon-xepelinforecast/\n",
      "\n",
      "Starting training. Start time is 2022-08-26 16:35:09\n",
      "Models that will be trained: ['AutoETS', 'SimpleFeedForward', 'DeepAR', 'ARIMA', 'Transformer']\n",
      "Training timeseries model AutoETS. \n",
      "\tWarning: Exception caused AutoETS to fail during training... Skipping this model.\n",
      "\t'pandas._libs.tslibs.offsets.MonthBegin' object has no attribute '_period_dtype_code'\n",
      "Training timeseries model SimpleFeedForward. \n",
      "\t-0.2727       = Validation score (-MAPE)\n",
      "\t1.91    s     = Training runtime\n",
      "\t0.02    s     = Validation (prediction) runtime\n",
      "Training timeseries model DeepAR. \n",
      "\tWarning: Exception caused DeepAR to fail during training... Skipping this model.\n",
      "\tinvalid frequency\n",
      "Training timeseries model ARIMA. \n",
      "\tWarning: Exception caused ARIMA to fail during training... Skipping this model.\n",
      "\t'pandas._libs.tslibs.offsets.MonthBegin' object has no attribute '_period_dtype_code'\n",
      "Training timeseries model Transformer. \n",
      "\tWarning: Exception caused Transformer to fail during training... Skipping this model.\n",
      "\tinvalid frequency\n",
      "Fitting simple weighted ensemble.\n",
      "\t-0.5009       = Validation score (-MAPE)\n",
      "\t0.00    s     = Training runtime\n",
      "\t0.02    s     = Validation (prediction) runtime\n",
      "Training complete. Models trained: ['SimpleFeedForward', 'WeightedEnsemble']\n",
      "Total runtime: 2.14 s\n",
      "Best model: SimpleFeedForward\n",
      "Best model score: -0.2727\n"
     ]
    },
    {
     "data": {
      "text/plain": [
       "<autogluon.timeseries.predictor.TimeSeriesPredictor at 0x7f6fe6ea40d0>"
      ]
     },
     "execution_count": 88,
     "metadata": {},
     "output_type": "execute_result"
    }
   ],
   "source": [
    "predictor = TimeSeriesPredictor(\n",
    "    path=\"autogluon-xepelinforecast\",\n",
    "    target=\"target\",\n",
    "    prediction_length=prediction_length,\n",
    "    eval_metric=\"MAPE\",\n",
    ")\n",
    "predictor.fit(\n",
    "    train_data=train_data,\n",
    "    presets=\"low_quality\",\n",
    ")"
   ]
  },
  {
   "cell_type": "code",
   "execution_count": 89,
   "id": "5a24edad-9348-4293-8db6-cf1378776774",
   "metadata": {},
   "outputs": [
    {
     "name": "stderr",
     "output_type": "stream",
     "text": [
      "Additional data provided, testing on additional data. Resulting leaderboard will be sorted according to test score (`score_test`).\n"
     ]
    },
    {
     "data": {
      "text/html": [
       "<div>\n",
       "<style scoped>\n",
       "    .dataframe tbody tr th:only-of-type {\n",
       "        vertical-align: middle;\n",
       "    }\n",
       "\n",
       "    .dataframe tbody tr th {\n",
       "        vertical-align: top;\n",
       "    }\n",
       "\n",
       "    .dataframe thead th {\n",
       "        text-align: right;\n",
       "    }\n",
       "</style>\n",
       "<table border=\"1\" class=\"dataframe\">\n",
       "  <thead>\n",
       "    <tr style=\"text-align: right;\">\n",
       "      <th></th>\n",
       "      <th>model</th>\n",
       "      <th>score_test</th>\n",
       "      <th>score_val</th>\n",
       "      <th>pred_time_test</th>\n",
       "      <th>pred_time_val</th>\n",
       "      <th>fit_time_marginal</th>\n",
       "      <th>fit_order</th>\n",
       "    </tr>\n",
       "  </thead>\n",
       "  <tbody>\n",
       "    <tr>\n",
       "      <th>0</th>\n",
       "      <td>WeightedEnsemble</td>\n",
       "      <td>-0.529615</td>\n",
       "      <td>-0.500896</td>\n",
       "      <td>0.037305</td>\n",
       "      <td>0.01843</td>\n",
       "      <td>0.004079</td>\n",
       "      <td>2</td>\n",
       "    </tr>\n",
       "    <tr>\n",
       "      <th>1</th>\n",
       "      <td>SimpleFeedForward</td>\n",
       "      <td>-0.627241</td>\n",
       "      <td>-0.272655</td>\n",
       "      <td>0.037374</td>\n",
       "      <td>0.01843</td>\n",
       "      <td>1.912636</td>\n",
       "      <td>1</td>\n",
       "    </tr>\n",
       "  </tbody>\n",
       "</table>\n",
       "</div>"
      ],
      "text/plain": [
       "               model  score_test  score_val  pred_time_test  pred_time_val  \\\n",
       "0   WeightedEnsemble   -0.529615  -0.500896        0.037305        0.01843   \n",
       "1  SimpleFeedForward   -0.627241  -0.272655        0.037374        0.01843   \n",
       "\n",
       "   fit_time_marginal  fit_order  \n",
       "0           0.004079          2  \n",
       "1           1.912636          1  "
      ]
     },
     "execution_count": 89,
     "metadata": {},
     "output_type": "execute_result"
    }
   ],
   "source": [
    "predictor.leaderboard(test_data, silent=True)"
   ]
  },
  {
   "cell_type": "code",
   "execution_count": 90,
   "id": "c943d5b2-d9a9-475c-bd23-5b1fd8227741",
   "metadata": {},
   "outputs": [
    {
     "name": "stderr",
     "output_type": "stream",
     "text": [
      "Model not specified in predict, will default to the model with the best validation score: SimpleFeedForward\n"
     ]
    }
   ],
   "source": [
    "predictions = predictor.predict(train_data)"
   ]
  },
  {
   "cell_type": "code",
   "execution_count": 91,
   "id": "2cdbe8bb-391c-4ee4-a8ab-fff725bcf9fa",
   "metadata": {},
   "outputs": [
    {
     "data": {
      "image/png": "[encoded data removed]",
      "text/plain": [
       "<Figure size 1440x216 with 1 Axes>"
      ]
     },
     "metadata": {
      "needs_background": "light"
     },
     "output_type": "display_data"
    }
   ],
   "source": [
    "plt.figure(figsize=(20, 3))\n",
    "\n",
    "ytrue = train_data.loc['A'][\"target\"]\n",
    "ypred = predictions.loc['A']\n",
    "\n",
    "# prepend the last value of true range to predicted range for plotting continuity\n",
    "ypred.loc[ytrue.index[-1]] = [ytrue[-1]] * 10\n",
    "ypred = ypred.sort_index()\n",
    "\n",
    "ytrue_test = test_data.loc['A'][\"target\"][-5:]\n",
    "\n",
    "plt.plot(ytrue[-30:], label=\"Training Data\")\n",
    "plt.plot(ypred[\"mean\"], label=\"Mean Forecasts\")\n",
    "plt.plot(ytrue_test, label=\"Actual\")\n",
    "\n",
    "plt.fill_between(\n",
    "    ypred.index, ypred[\"0.1\"], ypred[\"0.9\"], color=\"red\", alpha=0.1\n",
    ")\n",
    "plt.title(\"COVID Case Forecasts in France, compared to actual trajectory\")\n",
    "_ = plt.legend()"
   ]
  },
  {
   "cell_type": "code",
   "execution_count": 92,
   "id": "8d623a56-c274-414a-915f-dc7747d02ab0",
   "metadata": {},
   "outputs": [
    {
     "name": "stderr",
     "output_type": "stream",
     "text": [
      "Model not specified in predict, will default to the model with the best validation score: SimpleFeedForward\n"
     ]
    }
   ],
   "source": [
    "pred_junio = predictor.predict(test_data)\n",
    "pred_junio.rename(columns = {'mean':'target'}, inplace = True)"
   ]
  },
  {
   "cell_type": "code",
   "execution_count": 93,
   "id": "d642b5f7-9bc6-43fb-b6f7-0561333d628e",
   "metadata": {},
   "outputs": [
    {
     "data": {
      "text/html": [
       "<div>\n",
       "<style scoped>\n",
       "    .dataframe tbody tr th:only-of-type {\n",
       "        vertical-align: middle;\n",
       "    }\n",
       "\n",
       "    .dataframe tbody tr th {\n",
       "        vertical-align: top;\n",
       "    }\n",
       "\n",
       "    .dataframe thead th {\n",
       "        text-align: right;\n",
       "    }\n",
       "</style>\n",
       "<table border=\"1\" class=\"dataframe\">\n",
       "  <thead>\n",
       "    <tr style=\"text-align: right;\">\n",
       "      <th></th>\n",
       "      <th></th>\n",
       "      <th>target</th>\n",
       "    </tr>\n",
       "    <tr>\n",
       "      <th>item_id</th>\n",
       "      <th>timestamp</th>\n",
       "      <th></th>\n",
       "    </tr>\n",
       "  </thead>\n",
       "  <tbody>\n",
       "    <tr>\n",
       "      <th>A</th>\n",
       "      <th>2022-06-01</th>\n",
       "      <td>2454701.5</td>\n",
       "    </tr>\n",
       "  </tbody>\n",
       "</table>\n",
       "</div>"
      ],
      "text/plain": [
       "                       target\n",
       "item_id timestamp            \n",
       "A       2022-06-01  2454701.5"
      ]
     },
     "execution_count": 93,
     "metadata": {},
     "output_type": "execute_result"
    }
   ],
   "source": [
    "#pred_junio=pred_junio.droplevel(level=0)\n",
    "pred_junio.iloc[:3,0].to_frame()"
   ]
  },
  {
   "cell_type": "code",
   "execution_count": 94,
   "id": "e6015b4b-b782-4d62-b671-636860815c72",
   "metadata": {},
   "outputs": [],
   "source": [
    "pred = pd.concat([train_data, test_data, pred_junio.iloc[:3,0].to_frame()]).drop_duplicates()"
   ]
  },
  {
   "cell_type": "code",
   "execution_count": 95,
   "id": "152eee85-4259-44e4-b53a-994fb8f0c8bb",
   "metadata": {},
   "outputs": [
    {
     "data": {
      "text/plain": [
       "<matplotlib.legend.Legend at 0x7f6fe6df9e20>"
      ]
     },
     "execution_count": 95,
     "metadata": {},
     "output_type": "execute_result"
    },
    {
     "data": {
      "image/png": "[encoded data removed]",
      "text/plain": [
       "<Figure size 1440x216 with 1 Axes>"
      ]
     },
     "metadata": {
      "needs_background": "light"
     },
     "output_type": "display_data"
    }
   ],
   "source": [
    "plt.figure(figsize=(20, 3))\n",
    "plt.plot(pred.loc['A'], label=\"prediction\")\n",
    "plt.plot(test_data.loc['A'], label=\"test\")\n",
    "plt.plot(train_data.loc['A'], label=\"train\")\n",
    "\n",
    "test_range = (\n",
    "    test_data.loc['A'].index.max(),\n",
    "    train_data.loc['A'].index.max(),\n",
    "    pred_junio.index.max()\n",
    ")\n",
    "\n",
    "plt.fill_betweenx(\n",
    "    y=(0, test_data.loc['A'][\"target\"].max()),\n",
    "    x1=test_range[0],\n",
    "    x2=test_range[1],\n",
    "    alpha=0.1,\n",
    "    label=\"test forecast horizon\",\n",
    ")\n",
    "\n",
    "plt.legend()"
   ]
  },
  {
   "cell_type": "code",
   "execution_count": 96,
   "id": "eaf7b8a5-6cd3-4361-bd55-225e9d75787e",
   "metadata": {},
   "outputs": [
    {
     "data": {
      "text/html": [
       "<div>\n",
       "<style scoped>\n",
       "    .dataframe tbody tr th:only-of-type {\n",
       "        vertical-align: middle;\n",
       "    }\n",
       "\n",
       "    .dataframe tbody tr th {\n",
       "        vertical-align: top;\n",
       "    }\n",
       "\n",
       "    .dataframe thead th {\n",
       "        text-align: right;\n",
       "    }\n",
       "</style>\n",
       "<table border=\"1\" class=\"dataframe\">\n",
       "  <thead>\n",
       "    <tr style=\"text-align: right;\">\n",
       "      <th></th>\n",
       "      <th>period</th>\n",
       "      <th>freq</th>\n",
       "      <th>freqFinanced</th>\n",
       "      <th>target</th>\n",
       "      <th>meanAmount</th>\n",
       "      <th>totalFinanced</th>\n",
       "      <th>meanFinanced</th>\n",
       "      <th>freqPayers</th>\n",
       "      <th>freqReceiver</th>\n",
       "      <th>lit</th>\n",
       "    </tr>\n",
       "  </thead>\n",
       "  <tbody>\n",
       "    <tr>\n",
       "      <th>0</th>\n",
       "      <td>2021-11-01</td>\n",
       "      <td>5</td>\n",
       "      <td>1</td>\n",
       "      <td>35902.64</td>\n",
       "      <td>7180.528000</td>\n",
       "      <td>10520.15</td>\n",
       "      <td>2104.030000</td>\n",
       "      <td>5</td>\n",
       "      <td>5</td>\n",
       "      <td>A</td>\n",
       "    </tr>\n",
       "    <tr>\n",
       "      <th>1</th>\n",
       "      <td>2021-12-01</td>\n",
       "      <td>13</td>\n",
       "      <td>8</td>\n",
       "      <td>268349.19</td>\n",
       "      <td>20642.245385</td>\n",
       "      <td>119352.51</td>\n",
       "      <td>9180.962308</td>\n",
       "      <td>13</td>\n",
       "      <td>12</td>\n",
       "      <td>A</td>\n",
       "    </tr>\n",
       "    <tr>\n",
       "      <th>2</th>\n",
       "      <td>2022-01-01</td>\n",
       "      <td>17</td>\n",
       "      <td>7</td>\n",
       "      <td>753946.49</td>\n",
       "      <td>44349.793529</td>\n",
       "      <td>592831.07</td>\n",
       "      <td>34872.415882</td>\n",
       "      <td>16</td>\n",
       "      <td>16</td>\n",
       "      <td>A</td>\n",
       "    </tr>\n",
       "    <tr>\n",
       "      <th>3</th>\n",
       "      <td>2022-02-01</td>\n",
       "      <td>107</td>\n",
       "      <td>43</td>\n",
       "      <td>7283045.52</td>\n",
       "      <td>68065.845981</td>\n",
       "      <td>5219511.13</td>\n",
       "      <td>48780.477850</td>\n",
       "      <td>83</td>\n",
       "      <td>56</td>\n",
       "      <td>A</td>\n",
       "    </tr>\n",
       "    <tr>\n",
       "      <th>4</th>\n",
       "      <td>2022-03-01</td>\n",
       "      <td>183</td>\n",
       "      <td>45</td>\n",
       "      <td>7100660.51</td>\n",
       "      <td>38801.423552</td>\n",
       "      <td>4485712.42</td>\n",
       "      <td>24512.089727</td>\n",
       "      <td>115</td>\n",
       "      <td>65</td>\n",
       "      <td>A</td>\n",
       "    </tr>\n",
       "    <tr>\n",
       "      <th>5</th>\n",
       "      <td>2022-04-01</td>\n",
       "      <td>225</td>\n",
       "      <td>49</td>\n",
       "      <td>5765920.25</td>\n",
       "      <td>25626.312222</td>\n",
       "      <td>2344379.98</td>\n",
       "      <td>10419.466578</td>\n",
       "      <td>137</td>\n",
       "      <td>68</td>\n",
       "      <td>A</td>\n",
       "    </tr>\n",
       "    <tr>\n",
       "      <th>6</th>\n",
       "      <td>2022-05-01</td>\n",
       "      <td>269</td>\n",
       "      <td>50</td>\n",
       "      <td>5042399.69</td>\n",
       "      <td>18744.980260</td>\n",
       "      <td>3057870.38</td>\n",
       "      <td>11367.547881</td>\n",
       "      <td>153</td>\n",
       "      <td>73</td>\n",
       "      <td>A</td>\n",
       "    </tr>\n",
       "    <tr>\n",
       "      <th>7</th>\n",
       "      <td>2022-06-01</td>\n",
       "      <td>73</td>\n",
       "      <td>18</td>\n",
       "      <td>1180788.62</td>\n",
       "      <td>16175.186575</td>\n",
       "      <td>714735.77</td>\n",
       "      <td>9790.900959</td>\n",
       "      <td>62</td>\n",
       "      <td>35</td>\n",
       "      <td>A</td>\n",
       "    </tr>\n",
       "  </tbody>\n",
       "</table>\n",
       "</div>"
      ],
      "text/plain": [
       "      period  freq  freqFinanced      target    meanAmount  totalFinanced  \\\n",
       "0 2021-11-01     5             1    35902.64   7180.528000       10520.15   \n",
       "1 2021-12-01    13             8   268349.19  20642.245385      119352.51   \n",
       "2 2022-01-01    17             7   753946.49  44349.793529      592831.07   \n",
       "3 2022-02-01   107            43  7283045.52  68065.845981     5219511.13   \n",
       "4 2022-03-01   183            45  7100660.51  38801.423552     4485712.42   \n",
       "5 2022-04-01   225            49  5765920.25  25626.312222     2344379.98   \n",
       "6 2022-05-01   269            50  5042399.69  18744.980260     3057870.38   \n",
       "7 2022-06-01    73            18  1180788.62  16175.186575      714735.77   \n",
       "\n",
       "   meanFinanced  freqPayers  freqReceiver lit  \n",
       "0   2104.030000           5             5   A  \n",
       "1   9180.962308          13            12   A  \n",
       "2  34872.415882          16            16   A  \n",
       "3  48780.477850          83            56   A  \n",
       "4  24512.089727         115            65   A  \n",
       "5  10419.466578         137            68   A  \n",
       "6  11367.547881         153            73   A  \n",
       "7   9790.900959          62            35   A  "
      ]
     },
     "execution_count": 96,
     "metadata": {},
     "output_type": "execute_result"
    }
   ],
   "source": [
    "df2"
   ]
  },
  {
   "cell_type": "code",
   "execution_count": 97,
   "id": "64daa440-1dd6-423d-a0b5-9bd1dab13bca",
   "metadata": {},
   "outputs": [],
   "source": [
    "def process_metrics(y_true, y_pred):\n",
    "    \"\"\"Compute metrics based on model predictions.\n",
    "    Args:\n",
    "        - y_true: ground truth.\n",
    "        - y_pred: prediction.\n",
    "    Returns:\n",
    "        - metrics: dictionary with all computed metrics.\n",
    "    \"\"\"\n",
    "    metrics = {}\n",
    "\n",
    "    metrics['MAE'] = mean_absolute_error(y_true,y_pred)\n",
    "    metrics['MSE'] = mean_squared_error(y_true,y_pred)\n",
    "    metrics['RMSE'] = np.sqrt(mean_squared_error(y_true,y_pred))\n",
    "    metrics['RMSLogE'] = np.log(np.sqrt(mean_squared_error(y_true,y_pred)))\n",
    "    metrics['r2'] = r2_score(y_true,y_pred)\n",
    "   # metrics['r2Adjust'] = 1 - ((1-r2_score(y_test,y_pred))*(n-1)/(n-k-1))\n",
    "\n",
    "    return metrics"
   ]
  },
  {
   "cell_type": "code",
   "execution_count": 124,
   "id": "82f0742f-46f4-4a13-a585-244c0e31ad25",
   "metadata": {},
   "outputs": [
    {
     "name": "stderr",
     "output_type": "stream",
     "text": [
      "/opt/miniconda3/envs/myenv/lib/python3.8/site-packages/sklearn/metrics/_regression.py:796: UndefinedMetricWarning: R^2 score is not well-defined with less than two samples.\n",
      "  warnings.warn(msg, UndefinedMetricWarning)\n"
     ]
    },
    {
     "data": {
      "text/plain": [
       "{'MAE': 1273912.88,\n",
       " 'MSE': 1622854025829.894,\n",
       " 'RMSE': 1273912.88,\n",
       " 'RMSLogE': 14.057603729730493,\n",
       " 'r2': nan}"
      ]
     },
     "execution_count": 124,
     "metadata": {},
     "output_type": "execute_result"
    }
   ],
   "source": [
    "y_true= pred.iloc[7:,:]\n",
    "y_pred=df2.iloc[7:,3]\n",
    "process_metrics(y_true, y_pred )"
   ]
  },
  {
   "cell_type": "code",
   "execution_count": null,
   "id": "761d0870-f3e7-487c-91b5-377399faebb9",
   "metadata": {},
   "outputs": [],
   "source": []
  }
 ],
 "metadata": {
  "kernelspec": {
   "display_name": "Python 3 (ipykernel)",
   "language": "python",
   "name": "python3"
  },
  "language_info": {
   "codemirror_mode": {
    "name": "ipython",
    "version": 3
   },
   "file_extension": ".py",
   "mimetype": "text/x-python",
   "name": "python",
   "nbconvert_exporter": "python",
   "pygments_lexer": "ipython3",
   "version": "3.8.10"
  }
 },
 "nbformat": 4,
 "nbformat_minor": 5
}
