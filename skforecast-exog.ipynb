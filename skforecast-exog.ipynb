{
 "cells": [
  {
   "cell_type": "code",
   "execution_count": 1,
   "id": "f3c43729-eb91-4f31-b409-f029cca6a2ff",
   "metadata": {},
   "outputs": [],
   "source": [
    "# Tratamiento de datos\n",
    "# ==============================================================================\n",
    "import numpy as np\n",
    "import pandas as pd\n",
    "pd.set_option('display.float_format', lambda x: '%.2f' % x)\n",
    "\n",
    "# Gráficos\n",
    "# ==============================================================================\n",
    "import matplotlib.pyplot as plt\n",
    "plt.style.use('fivethirtyeight')\n",
    "plt.rcParams['lines.linewidth'] = 1.5\n",
    "%matplotlib inline\n",
    "\n",
    "# Modelado y Forecasting\n",
    "# ==============================================================================\n",
    "from sklearn.linear_model import LinearRegression\n",
    "from sklearn.linear_model import Lasso\n",
    "from sklearn.ensemble import RandomForestRegressor\n",
    "from sklearn.metrics import mean_squared_error, mean_absolute_error, r2_score\n",
    "from sklearn.preprocessing import StandardScaler\n",
    "from sklearn.pipeline import make_pipeline\n",
    "\n",
    "from skforecast.ForecasterAutoreg import ForecasterAutoreg\n",
    "from skforecast.ForecasterAutoregCustom import ForecasterAutoregCustom\n",
    "from skforecast.ForecasterAutoregMultiOutput import ForecasterAutoregMultiOutput\n",
    "from skforecast.model_selection import grid_search_forecaster\n",
    "from skforecast.model_selection import backtesting_forecaster\n",
    "\n",
    "from joblib import dump, load\n",
    "\n",
    "# Configuración warnings\n",
    "# ==============================================================================\n",
    "import warnings\n",
    "# warnings.filterwarnings('ignore')"
   ]
  },
  {
   "cell_type": "code",
   "execution_count": 2,
   "id": "9a93ef96-e8e6-4815-abcd-d4b6d2ac6e1c",
   "metadata": {},
   "outputs": [
    {
     "data": {
      "text/html": [
       "<div>\n",
       "<style scoped>\n",
       "    .dataframe tbody tr th:only-of-type {\n",
       "        vertical-align: middle;\n",
       "    }\n",
       "\n",
       "    .dataframe tbody tr th {\n",
       "        vertical-align: top;\n",
       "    }\n",
       "\n",
       "    .dataframe thead th {\n",
       "        text-align: right;\n",
       "    }\n",
       "</style>\n",
       "<table border=\"1\" class=\"dataframe\">\n",
       "  <thead>\n",
       "    <tr style=\"text-align: right;\">\n",
       "      <th></th>\n",
       "      <th>period</th>\n",
       "      <th>freq</th>\n",
       "      <th>freqFinanced</th>\n",
       "      <th>totalAmount</th>\n",
       "      <th>meanAmount</th>\n",
       "      <th>totalFinanced</th>\n",
       "      <th>meanFinanced</th>\n",
       "      <th>freqPayers</th>\n",
       "      <th>freqReceiver</th>\n",
       "    </tr>\n",
       "  </thead>\n",
       "  <tbody>\n",
       "    <tr>\n",
       "      <th>0</th>\n",
       "      <td>2021-11-01</td>\n",
       "      <td>5</td>\n",
       "      <td>1</td>\n",
       "      <td>35902.64</td>\n",
       "      <td>7180.53</td>\n",
       "      <td>10520.15</td>\n",
       "      <td>2104.03</td>\n",
       "      <td>5</td>\n",
       "      <td>5</td>\n",
       "    </tr>\n",
       "    <tr>\n",
       "      <th>1</th>\n",
       "      <td>2021-12-01</td>\n",
       "      <td>13</td>\n",
       "      <td>8</td>\n",
       "      <td>268349.19</td>\n",
       "      <td>20642.25</td>\n",
       "      <td>119352.51</td>\n",
       "      <td>9180.96</td>\n",
       "      <td>13</td>\n",
       "      <td>12</td>\n",
       "    </tr>\n",
       "    <tr>\n",
       "      <th>2</th>\n",
       "      <td>2022-01-01</td>\n",
       "      <td>17</td>\n",
       "      <td>7</td>\n",
       "      <td>753946.49</td>\n",
       "      <td>44349.79</td>\n",
       "      <td>592831.07</td>\n",
       "      <td>34872.42</td>\n",
       "      <td>16</td>\n",
       "      <td>16</td>\n",
       "    </tr>\n",
       "    <tr>\n",
       "      <th>3</th>\n",
       "      <td>2022-02-01</td>\n",
       "      <td>107</td>\n",
       "      <td>43</td>\n",
       "      <td>7283045.52</td>\n",
       "      <td>68065.85</td>\n",
       "      <td>5219511.13</td>\n",
       "      <td>48780.48</td>\n",
       "      <td>83</td>\n",
       "      <td>56</td>\n",
       "    </tr>\n",
       "    <tr>\n",
       "      <th>4</th>\n",
       "      <td>2022-03-01</td>\n",
       "      <td>183</td>\n",
       "      <td>45</td>\n",
       "      <td>7100660.51</td>\n",
       "      <td>38801.42</td>\n",
       "      <td>4485712.42</td>\n",
       "      <td>24512.09</td>\n",
       "      <td>115</td>\n",
       "      <td>65</td>\n",
       "    </tr>\n",
       "    <tr>\n",
       "      <th>5</th>\n",
       "      <td>2022-04-01</td>\n",
       "      <td>225</td>\n",
       "      <td>49</td>\n",
       "      <td>5765920.25</td>\n",
       "      <td>25626.31</td>\n",
       "      <td>2344379.98</td>\n",
       "      <td>10419.47</td>\n",
       "      <td>137</td>\n",
       "      <td>68</td>\n",
       "    </tr>\n",
       "    <tr>\n",
       "      <th>6</th>\n",
       "      <td>2022-05-01</td>\n",
       "      <td>269</td>\n",
       "      <td>50</td>\n",
       "      <td>5042399.69</td>\n",
       "      <td>18744.98</td>\n",
       "      <td>3057870.38</td>\n",
       "      <td>11367.55</td>\n",
       "      <td>153</td>\n",
       "      <td>73</td>\n",
       "    </tr>\n",
       "  </tbody>\n",
       "</table>\n",
       "</div>"
      ],
      "text/plain": [
       "      period  freq  freqFinanced  totalAmount  meanAmount  totalFinanced  \\\n",
       "0 2021-11-01     5             1     35902.64     7180.53       10520.15   \n",
       "1 2021-12-01    13             8    268349.19    20642.25      119352.51   \n",
       "2 2022-01-01    17             7    753946.49    44349.79      592831.07   \n",
       "3 2022-02-01   107            43   7283045.52    68065.85     5219511.13   \n",
       "4 2022-03-01   183            45   7100660.51    38801.42     4485712.42   \n",
       "5 2022-04-01   225            49   5765920.25    25626.31     2344379.98   \n",
       "6 2022-05-01   269            50   5042399.69    18744.98     3057870.38   \n",
       "\n",
       "   meanFinanced  freqPayers  freqReceiver  \n",
       "0       2104.03           5             5  \n",
       "1       9180.96          13            12  \n",
       "2      34872.42          16            16  \n",
       "3      48780.48          83            56  \n",
       "4      24512.09         115            65  \n",
       "5      10419.47         137            68  \n",
       "6      11367.55         153            73  "
      ]
     },
     "execution_count": 2,
     "metadata": {},
     "output_type": "execute_result"
    }
   ],
   "source": [
    "# Descarga de datos\n",
    "# ==============================================================================\n",
    "datos = pd.read_csv('data/data_final_lag.csv', parse_dates = ['period'],sep=';')\n",
    "datos = datos.drop('Unnamed: 0', axis=1)\n",
    "datos"
   ]
  },
  {
   "cell_type": "code",
   "execution_count": 172,
   "id": "b10a348d-2ecb-4f03-b6ee-4d610a118fa6",
   "metadata": {},
   "outputs": [
    {
     "name": "stdout",
     "output_type": "stream",
     "text": [
      "<class 'pandas.core.frame.DataFrame'>\n",
      "RangeIndex: 7 entries, 0 to 6\n",
      "Data columns (total 9 columns):\n",
      " #   Column         Non-Null Count  Dtype         \n",
      "---  ------         --------------  -----         \n",
      " 0   period         7 non-null      datetime64[ns]\n",
      " 1   freq           7 non-null      int64         \n",
      " 2   freqFinanced   7 non-null      int64         \n",
      " 3   totalAmount    7 non-null      float64       \n",
      " 4   meanAmount     7 non-null      float64       \n",
      " 5   totalFinanced  7 non-null      float64       \n",
      " 6   meanFinanced   7 non-null      float64       \n",
      " 7   freqPayers     7 non-null      int64         \n",
      " 8   freqReceiver   7 non-null      int64         \n",
      "dtypes: datetime64[ns](1), float64(4), int64(4)\n",
      "memory usage: 632.0 bytes\n"
     ]
    }
   ],
   "source": [
    "datos.info()"
   ]
  },
  {
   "cell_type": "code",
   "execution_count": 173,
   "id": "09a87411-9714-4952-a3b9-bd22fd036a38",
   "metadata": {},
   "outputs": [
    {
     "data": {
      "text/html": [
       "<div>\n",
       "<style scoped>\n",
       "    .dataframe tbody tr th:only-of-type {\n",
       "        vertical-align: middle;\n",
       "    }\n",
       "\n",
       "    .dataframe tbody tr th {\n",
       "        vertical-align: top;\n",
       "    }\n",
       "\n",
       "    .dataframe thead th {\n",
       "        text-align: right;\n",
       "    }\n",
       "</style>\n",
       "<table border=\"1\" class=\"dataframe\">\n",
       "  <thead>\n",
       "    <tr style=\"text-align: right;\">\n",
       "      <th></th>\n",
       "      <th>qPayments</th>\n",
       "      <th>freqFinanced</th>\n",
       "      <th>y</th>\n",
       "      <th>meanAmount</th>\n",
       "      <th>totalFinanced</th>\n",
       "      <th>meanFinanced</th>\n",
       "      <th>freqPayers</th>\n",
       "      <th>freqReceiver</th>\n",
       "    </tr>\n",
       "    <tr>\n",
       "      <th>period</th>\n",
       "      <th></th>\n",
       "      <th></th>\n",
       "      <th></th>\n",
       "      <th></th>\n",
       "      <th></th>\n",
       "      <th></th>\n",
       "      <th></th>\n",
       "      <th></th>\n",
       "    </tr>\n",
       "  </thead>\n",
       "  <tbody>\n",
       "    <tr>\n",
       "      <th>2021-11-01</th>\n",
       "      <td>5</td>\n",
       "      <td>1</td>\n",
       "      <td>35902.64</td>\n",
       "      <td>7180.53</td>\n",
       "      <td>10520.15</td>\n",
       "      <td>2104.03</td>\n",
       "      <td>5</td>\n",
       "      <td>5</td>\n",
       "    </tr>\n",
       "    <tr>\n",
       "      <th>2021-12-01</th>\n",
       "      <td>13</td>\n",
       "      <td>8</td>\n",
       "      <td>268349.19</td>\n",
       "      <td>20642.25</td>\n",
       "      <td>119352.51</td>\n",
       "      <td>9180.96</td>\n",
       "      <td>13</td>\n",
       "      <td>12</td>\n",
       "    </tr>\n",
       "    <tr>\n",
       "      <th>2022-01-01</th>\n",
       "      <td>17</td>\n",
       "      <td>7</td>\n",
       "      <td>753946.49</td>\n",
       "      <td>44349.79</td>\n",
       "      <td>592831.07</td>\n",
       "      <td>34872.42</td>\n",
       "      <td>16</td>\n",
       "      <td>16</td>\n",
       "    </tr>\n",
       "    <tr>\n",
       "      <th>2022-02-01</th>\n",
       "      <td>107</td>\n",
       "      <td>43</td>\n",
       "      <td>7283045.52</td>\n",
       "      <td>68065.85</td>\n",
       "      <td>5219511.13</td>\n",
       "      <td>48780.48</td>\n",
       "      <td>83</td>\n",
       "      <td>56</td>\n",
       "    </tr>\n",
       "    <tr>\n",
       "      <th>2022-03-01</th>\n",
       "      <td>183</td>\n",
       "      <td>45</td>\n",
       "      <td>7100660.51</td>\n",
       "      <td>38801.42</td>\n",
       "      <td>4485712.42</td>\n",
       "      <td>24512.09</td>\n",
       "      <td>115</td>\n",
       "      <td>65</td>\n",
       "    </tr>\n",
       "  </tbody>\n",
       "</table>\n",
       "</div>"
      ],
      "text/plain": [
       "            qPayments  freqFinanced          y  meanAmount  totalFinanced  \\\n",
       "period                                                                      \n",
       "2021-11-01          5             1   35902.64     7180.53       10520.15   \n",
       "2021-12-01         13             8  268349.19    20642.25      119352.51   \n",
       "2022-01-01         17             7  753946.49    44349.79      592831.07   \n",
       "2022-02-01        107            43 7283045.52    68065.85     5219511.13   \n",
       "2022-03-01        183            45 7100660.51    38801.42     4485712.42   \n",
       "\n",
       "            meanFinanced  freqPayers  freqReceiver  \n",
       "period                                              \n",
       "2021-11-01       2104.03           5             5  \n",
       "2021-12-01       9180.96          13            12  \n",
       "2022-01-01      34872.42          16            16  \n",
       "2022-02-01      48780.48          83            56  \n",
       "2022-03-01      24512.09         115            65  "
      ]
     },
     "execution_count": 173,
     "metadata": {},
     "output_type": "execute_result"
    }
   ],
   "source": [
    "# Preparación del dato\n",
    "# ==============================================================================\n",
    "datos = datos.set_index('period')\n",
    "datos = datos.rename(columns={'totalAmount': 'y', 'freq': 'qPayments'})\n",
    "exog_cols = ['qPayments','freqFinanced','meanAmount','totalFinanced','meanFinanced','freqPayers','freqReceiver']\n",
    "datos = datos.asfreq('MS')\n",
    "datos = datos.sort_index()\n",
    "datos.head()"
   ]
  },
  {
   "cell_type": "code",
   "execution_count": 174,
   "id": "4d5910eb-3609-4ce7-b716-90d98ad98ff3",
   "metadata": {},
   "outputs": [
    {
     "name": "stdout",
     "output_type": "stream",
     "text": [
      "Número de filas con missing values: 0.0\n"
     ]
    }
   ],
   "source": [
    "print(f'Número de filas con missing values: {datos.isnull().any(axis=1).mean()}')"
   ]
  },
  {
   "cell_type": "code",
   "execution_count": 175,
   "id": "2c478aeb-fb0c-4634-b641-b66b99bb313f",
   "metadata": {
    "tags": []
   },
   "outputs": [
    {
     "data": {
      "text/plain": [
       "True"
      ]
     },
     "execution_count": 175,
     "metadata": {},
     "output_type": "execute_result"
    }
   ],
   "source": [
    "# Verificar que un índice temporal está completo\n",
    "# ==============================================================================\n",
    "(datos.index == pd.date_range(\n",
    "                    start = datos.index.min(),\n",
    "                    end   = datos.index.max(),\n",
    "                    freq  = datos.index.freq)\n",
    ").all()"
   ]
  },
  {
   "cell_type": "code",
   "execution_count": 176,
   "id": "ff0a960d-c699-48ce-8073-b41e8921fab0",
   "metadata": {},
   "outputs": [
    {
     "name": "stdout",
     "output_type": "stream",
     "text": [
      "Fechas train : 2021-11-01 00:00:00 --- 2022-04-01 00:00:00  (n=6)\n",
      "Fechas test  : 2022-05-01 00:00:00 --- 2022-05-01 00:00:00  (n=1)\n"
     ]
    },
    {
     "data": {
      "image/png": "[encoded data removed]",
      "text/plain": [
       "<Figure size 648x288 with 1 Axes>"
      ]
     },
     "metadata": {
      "needs_background": "light"
     },
     "output_type": "display_data"
    }
   ],
   "source": [
    "# Separación datos train-test\n",
    "# ==============================================================================\n",
    "steps = 1\n",
    "datos_train = datos[:-steps]\n",
    "datos_test  = datos[-steps:]\n",
    "\n",
    "print(f\"Fechas train : {datos_train.index.min()} --- {datos_train.index.max()}  (n={len(datos_train)})\")\n",
    "print(f\"Fechas test  : {datos_test.index.min()} --- {datos_test.index.max()}  (n={len(datos_test)})\")\n",
    "\n",
    "fig, ax = plt.subplots(figsize=(9, 4))\n",
    "datos_train['y'].plot(ax=ax, label='train')\n",
    "datos_test['y'].plot(ax=ax, label='test')\n",
    "ax.legend();"
   ]
  },
  {
   "cell_type": "code",
   "execution_count": 177,
   "id": "75cf612d-49df-4633-8a47-1ae2d0177373",
   "metadata": {},
   "outputs": [
    {
     "data": {
      "text/plain": [
       "================= \n",
       "ForecasterAutoreg \n",
       "================= \n",
       "Regressor: RandomForestRegressor(random_state=123) \n",
       "Lags: [1] \n",
       "Window size: 1 \n",
       "Included exogenous: True \n",
       "Type of exogenous variable: <class 'pandas.core.frame.DataFrame'> \n",
       "Exogenous variables names: ['qPayments', 'freqFinanced', 'meanAmount', 'totalFinanced', 'meanFinanced', 'freqPayers', 'freqReceiver'] \n",
       "Training range: [Timestamp('2021-11-01 00:00:00'), Timestamp('2022-04-01 00:00:00')] \n",
       "Training index type: DatetimeIndex \n",
       "Training index frequency: MS \n",
       "Regressor parameters: {'bootstrap': True, 'ccp_alpha': 0.0, 'criterion': 'squared_error', 'max_depth': None, 'max_features': 'auto', 'max_leaf_nodes': None, 'max_samples': None, 'min_impurity_decrease': 0.0, 'min_samples_leaf': 1, 'min_samples_split': 2, 'min_weight_fraction_leaf': 0.0, 'n_estimators': 100, 'n_jobs': None, 'oob_score': False, 'random_state': 123, 'verbose': 0, 'warm_start': False} \n",
       "Creation date: 2022-08-26 20:42:51 \n",
       "Last fit date: 2022-08-26 20:42:51 \n",
       "Skforecast version: 0.4.3 "
      ]
     },
     "execution_count": 177,
     "metadata": {},
     "output_type": "execute_result"
    }
   ],
   "source": [
    "# Crear y entrenar forecaster\n",
    "# ==============================================================================\n",
    "forecaster = ForecasterAutoreg(\n",
    "                regressor = RandomForestRegressor(random_state=123),\n",
    "                lags = 1\n",
    "             )\n",
    "\n",
    "forecaster.fit(y=datos_train['y'], exog=datos_train[exog_cols])\n",
    "forecaster"
   ]
  },
  {
   "cell_type": "code",
   "execution_count": 178,
   "id": "ae838931-57b3-4c19-bb9e-5e8fea6d01f9",
   "metadata": {},
   "outputs": [
    {
     "data": {
      "text/plain": [
       "2022-05-01   5560425.73\n",
       "Freq: MS, Name: pred, dtype: float64"
      ]
     },
     "execution_count": 178,
     "metadata": {},
     "output_type": "execute_result"
    }
   ],
   "source": [
    "# Predicciones\n",
    "# ==============================================================================\n",
    "predicciones = forecaster.predict(steps=steps, exog=datos_test[exog_cols])\n",
    "predicciones"
   ]
  },
  {
   "cell_type": "code",
   "execution_count": 179,
   "id": "c5a7f55e-316e-4d15-b10f-8531e2f396d0",
   "metadata": {},
   "outputs": [
    {
     "data": {
      "image/png": "[encoded data removed]",
      "text/plain": [
       "<Figure size 648x288 with 1 Axes>"
      ]
     },
     "metadata": {
      "needs_background": "light"
     },
     "output_type": "display_data"
    }
   ],
   "source": [
    "# Gráfico\n",
    "# ==============================================================================\n",
    "fig, ax = plt.subplots(figsize=(9, 4))\n",
    "datos_train['y'].plot(ax=ax, label='train')\n",
    "datos_test['y'].plot(ax=ax, label='test')\n",
    "predicciones.plot(ax=ax, label='predicciones')\n",
    "ax.legend();"
   ]
  },
  {
   "cell_type": "code",
   "execution_count": 180,
   "id": "62300fac-37cb-4fc5-aa54-568439731ad7",
   "metadata": {},
   "outputs": [
    {
     "name": "stdout",
     "output_type": "stream",
     "text": [
      "Error de test (mse): 268350973766.65872\n"
     ]
    }
   ],
   "source": [
    "# Error test\n",
    "# ==============================================================================\n",
    "error_mse = mean_squared_error(\n",
    "                y_true = datos_test['y'],\n",
    "                y_pred = predicciones\n",
    "            )\n",
    "\n",
    "print(f\"Error de test (mse): {error_mse}\")"
   ]
  },
  {
   "cell_type": "code",
   "execution_count": 181,
   "id": "8b47f624-0f82-46c6-b770-2d77605ad4d6",
   "metadata": {},
   "outputs": [
    {
     "name": "stdout",
     "output_type": "stream",
     "text": [
      "Number of models compared: 20\n"
     ]
    },
    {
     "name": "stderr",
     "output_type": "stream",
     "text": [
      "loop lags_grid:   0%|                                               | 0/1 [00:00<?, ?it/s]\n",
      "loop param_grid:   0%|                                             | 0/20 [00:00<?, ?it/s]\u001b[A\n",
      "loop param_grid:  10%|███▋                                 | 2/20 [00:00<00:00, 18.65it/s]\u001b[A\n",
      "loop param_grid:  20%|███████▍                             | 4/20 [00:00<00:03,  5.07it/s]\u001b[A\n",
      "loop param_grid:  25%|█████████▎                           | 5/20 [00:02<00:10,  1.48it/s]\u001b[A\n",
      "loop param_grid:  35%|████████████▉                        | 7/20 [00:02<00:05,  2.56it/s]\u001b[A\n",
      "loop param_grid:  45%|████████████████▋                    | 9/20 [00:03<00:03,  2.84it/s]\u001b[A\n",
      "loop param_grid:  50%|██████████████████                  | 10/20 [00:05<00:06,  1.48it/s]\u001b[A\n",
      "loop param_grid:  60%|█████████████████████▌              | 12/20 [00:05<00:03,  2.29it/s]\u001b[A\n",
      "loop param_grid:  65%|███████████████████████▍            | 13/20 [00:05<00:02,  2.58it/s]\u001b[A\n",
      "loop param_grid:  70%|█████████████████████████▏          | 14/20 [00:05<00:02,  2.58it/s]\u001b[A\n",
      "loop param_grid:  75%|███████████████████████████         | 15/20 [00:07<00:03,  1.34it/s]\u001b[A\n",
      "loop param_grid:  85%|██████████████████████████████▌     | 17/20 [00:07<00:01,  2.18it/s]\u001b[A\n",
      "loop param_grid:  90%|████████████████████████████████▍   | 18/20 [00:07<00:00,  2.50it/s]\u001b[A\n",
      "loop param_grid:  95%|██████████████████████████████████▏ | 19/20 [00:08<00:00,  2.52it/s]\u001b[A\n",
      "loop param_grid: 100%|████████████████████████████████████| 20/20 [00:10<00:00,  1.30it/s]\u001b[A\n",
      "loop lags_grid: 100%|███████████████████████████████████████| 1/1 [00:10<00:00, 10.08s/it]\u001b[A"
     ]
    },
    {
     "name": "stdout",
     "output_type": "stream",
     "text": [
      "`Forecaster` refitted using the best-found lags and parameters, and the whole data set: \n",
      "  Lags: [1] \n",
      "  Parameters: {'max_depth': 2, 'n_estimators': 10}\n",
      "  Backtesting metric: 15470548912594.508\n",
      "\n"
     ]
    },
    {
     "name": "stderr",
     "output_type": "stream",
     "text": [
      "\n"
     ]
    }
   ],
   "source": [
    "# Grid search de hiperparámetros\n",
    "# ==============================================================================\n",
    "steps = 1\n",
    "forecaster = ForecasterAutoreg(\n",
    "                regressor = RandomForestRegressor(random_state=123),\n",
    "                lags      = 1 # Este valor será remplazado en el grid search\n",
    "             )\n",
    "\n",
    "# Lags utilizados como predictores\n",
    "lags_grid = [1]\n",
    "\n",
    "# Hiperparámetros del regresor\n",
    "param_grid = {'n_estimators': [5,10,50, 100, 500],\n",
    "              'max_depth': [2, 3, 5, 10]}\n",
    "\n",
    "resultados_grid = grid_search_forecaster(\n",
    "                        forecaster         = forecaster,\n",
    "                        y                  = datos_train['y'],\n",
    "                        exog               = datos_train[exog_cols],\n",
    "                        param_grid         = param_grid,\n",
    "                        lags_grid          = lags_grid,\n",
    "                        steps              = steps,\n",
    "                        refit              = True,\n",
    "                        metric             = 'mean_squared_error',\n",
    "                        initial_train_size = int(len(datos_train)*0.5),\n",
    "                        fixed_train_size   = False,\n",
    "                        return_best        = True,\n",
    "                        verbose            = False\n",
    "                   )"
   ]
  },
  {
   "cell_type": "markdown",
   "id": "564c430e-02e4-4889-80a9-c621f2366158",
   "metadata": {},
   "source": [
    "Como se ha indicado return_best = True en grid_search_forecaster, tras la búsqueda, el objeto ForecasterAutoreg ha sido modificado y entrenado con la mejor combinación encontrada."
   ]
  },
  {
   "cell_type": "code",
   "execution_count": 182,
   "id": "b6d8459b-d0f7-4ccf-a947-e91c3d3e55e9",
   "metadata": {},
   "outputs": [
    {
     "data": {
      "text/html": [
       "<div>\n",
       "<style scoped>\n",
       "    .dataframe tbody tr th:only-of-type {\n",
       "        vertical-align: middle;\n",
       "    }\n",
       "\n",
       "    .dataframe tbody tr th {\n",
       "        vertical-align: top;\n",
       "    }\n",
       "\n",
       "    .dataframe thead th {\n",
       "        text-align: right;\n",
       "    }\n",
       "</style>\n",
       "<table border=\"1\" class=\"dataframe\">\n",
       "  <thead>\n",
       "    <tr style=\"text-align: right;\">\n",
       "      <th></th>\n",
       "      <th>lags</th>\n",
       "      <th>params</th>\n",
       "      <th>metric</th>\n",
       "      <th>max_depth</th>\n",
       "      <th>n_estimators</th>\n",
       "    </tr>\n",
       "  </thead>\n",
       "  <tbody>\n",
       "    <tr>\n",
       "      <th>1</th>\n",
       "      <td>[1]</td>\n",
       "      <td>{'max_depth': 2, 'n_estimators': 10}</td>\n",
       "      <td>15470548912594.51</td>\n",
       "      <td>2</td>\n",
       "      <td>10</td>\n",
       "    </tr>\n",
       "    <tr>\n",
       "      <th>16</th>\n",
       "      <td>[1]</td>\n",
       "      <td>{'max_depth': 10, 'n_estimators': 10}</td>\n",
       "      <td>15470548912594.51</td>\n",
       "      <td>10</td>\n",
       "      <td>10</td>\n",
       "    </tr>\n",
       "    <tr>\n",
       "      <th>6</th>\n",
       "      <td>[1]</td>\n",
       "      <td>{'max_depth': 3, 'n_estimators': 10}</td>\n",
       "      <td>15470548912594.51</td>\n",
       "      <td>3</td>\n",
       "      <td>10</td>\n",
       "    </tr>\n",
       "    <tr>\n",
       "      <th>11</th>\n",
       "      <td>[1]</td>\n",
       "      <td>{'max_depth': 5, 'n_estimators': 10}</td>\n",
       "      <td>15470548912594.51</td>\n",
       "      <td>5</td>\n",
       "      <td>10</td>\n",
       "    </tr>\n",
       "    <tr>\n",
       "      <th>0</th>\n",
       "      <td>[1]</td>\n",
       "      <td>{'max_depth': 2, 'n_estimators': 5}</td>\n",
       "      <td>16135383417257.93</td>\n",
       "      <td>2</td>\n",
       "      <td>5</td>\n",
       "    </tr>\n",
       "  </tbody>\n",
       "</table>\n",
       "</div>"
      ],
      "text/plain": [
       "   lags                                 params            metric  max_depth  \\\n",
       "1   [1]   {'max_depth': 2, 'n_estimators': 10} 15470548912594.51          2   \n",
       "16  [1]  {'max_depth': 10, 'n_estimators': 10} 15470548912594.51         10   \n",
       "6   [1]   {'max_depth': 3, 'n_estimators': 10} 15470548912594.51          3   \n",
       "11  [1]   {'max_depth': 5, 'n_estimators': 10} 15470548912594.51          5   \n",
       "0   [1]    {'max_depth': 2, 'n_estimators': 5} 16135383417257.93          2   \n",
       "\n",
       "    n_estimators  \n",
       "1             10  \n",
       "16            10  \n",
       "6             10  \n",
       "11            10  \n",
       "0              5  "
      ]
     },
     "execution_count": 182,
     "metadata": {},
     "output_type": "execute_result"
    }
   ],
   "source": [
    "# Resultados Grid Search\n",
    "# ==============================================================================\n",
    "resultados_grid.head()"
   ]
  },
  {
   "cell_type": "code",
   "execution_count": 183,
   "id": "4921447a-116e-40b2-b15e-39029f4de2c4",
   "metadata": {},
   "outputs": [
    {
     "data": {
      "text/plain": [
       "2022-05-01   5616585.22\n",
       "Freq: MS, Name: pred, dtype: float64"
      ]
     },
     "execution_count": 183,
     "metadata": {},
     "output_type": "execute_result"
    }
   ],
   "source": [
    "# Predicciones\n",
    "# ==============================================================================\n",
    "predicciones = forecaster.predict(steps=steps, exog=datos_test[exog_cols])\n",
    "predicciones"
   ]
  },
  {
   "cell_type": "code",
   "execution_count": 184,
   "id": "10299866-510f-42e4-bc00-fd9893f4a534",
   "metadata": {},
   "outputs": [],
   "source": [
    "df_final_real = pd.concat([datos_train['y'],datos_test['y']])\n",
    "df_final_pred = pd.concat([datos_train['y'],predicciones])"
   ]
  },
  {
   "cell_type": "code",
   "execution_count": 185,
   "id": "16e32d02-07d6-4428-8f5f-26a44f670684",
   "metadata": {},
   "outputs": [
    {
     "data": {
      "image/png": "[encoded data removed]",
      "text/plain": [
       "<Figure size 864x288 with 1 Axes>"
      ]
     },
     "metadata": {
      "needs_background": "light"
     },
     "output_type": "display_data"
    }
   ],
   "source": [
    "# Gráfico\n",
    "# ==============================================================================\n",
    "fig, ax = plt.subplots(figsize=(12, 4))\n",
    "df_final_real.plot(ax=ax, label='train')\n",
    "df_final_pred.plot(ax=ax, label='test')\n",
    "ax.legend();"
   ]
  },
  {
   "cell_type": "code",
   "execution_count": 186,
   "id": "dd648be3-8a72-4897-9387-3ad413e3ad58",
   "metadata": {},
   "outputs": [
    {
     "name": "stdout",
     "output_type": "stream",
     "text": [
      "Error de test (mse) 329689025158.1216\n"
     ]
    }
   ],
   "source": [
    "# Error test\n",
    "# ==============================================================================\n",
    "error_mse = mean_squared_error(y_true = datos_test['y'], y_pred = predicciones)\n",
    "print(f\"Error de test (mse) {error_mse}\")"
   ]
  },
  {
   "cell_type": "code",
   "execution_count": 187,
   "id": "e58d08f6-0951-4578-b724-4c5525c2c000",
   "metadata": {},
   "outputs": [
    {
     "data": {
      "text/html": [
       "<div>\n",
       "<style scoped>\n",
       "    .dataframe tbody tr th:only-of-type {\n",
       "        vertical-align: middle;\n",
       "    }\n",
       "\n",
       "    .dataframe tbody tr th {\n",
       "        vertical-align: top;\n",
       "    }\n",
       "\n",
       "    .dataframe thead th {\n",
       "        text-align: right;\n",
       "    }\n",
       "</style>\n",
       "<table border=\"1\" class=\"dataframe\">\n",
       "  <thead>\n",
       "    <tr style=\"text-align: right;\">\n",
       "      <th></th>\n",
       "      <th>feature</th>\n",
       "      <th>importance</th>\n",
       "    </tr>\n",
       "  </thead>\n",
       "  <tbody>\n",
       "    <tr>\n",
       "      <th>6</th>\n",
       "      <td>freqPayers</td>\n",
       "      <td>0.30</td>\n",
       "    </tr>\n",
       "    <tr>\n",
       "      <th>4</th>\n",
       "      <td>totalFinanced</td>\n",
       "      <td>0.20</td>\n",
       "    </tr>\n",
       "    <tr>\n",
       "      <th>7</th>\n",
       "      <td>freqReceiver</td>\n",
       "      <td>0.20</td>\n",
       "    </tr>\n",
       "    <tr>\n",
       "      <th>0</th>\n",
       "      <td>lag_1</td>\n",
       "      <td>0.10</td>\n",
       "    </tr>\n",
       "    <tr>\n",
       "      <th>2</th>\n",
       "      <td>freqFinanced</td>\n",
       "      <td>0.10</td>\n",
       "    </tr>\n",
       "    <tr>\n",
       "      <th>3</th>\n",
       "      <td>meanAmount</td>\n",
       "      <td>0.09</td>\n",
       "    </tr>\n",
       "    <tr>\n",
       "      <th>1</th>\n",
       "      <td>qPayments</td>\n",
       "      <td>0.01</td>\n",
       "    </tr>\n",
       "    <tr>\n",
       "      <th>5</th>\n",
       "      <td>meanFinanced</td>\n",
       "      <td>0.00</td>\n",
       "    </tr>\n",
       "  </tbody>\n",
       "</table>\n",
       "</div>"
      ],
      "text/plain": [
       "         feature  importance\n",
       "6     freqPayers        0.30\n",
       "4  totalFinanced        0.20\n",
       "7   freqReceiver        0.20\n",
       "0          lag_1        0.10\n",
       "2   freqFinanced        0.10\n",
       "3     meanAmount        0.09\n",
       "1      qPayments        0.01\n",
       "5   meanFinanced        0.00"
      ]
     },
     "execution_count": 187,
     "metadata": {},
     "output_type": "execute_result"
    }
   ],
   "source": [
    "# Importancia predictores\n",
    "# ==============================================================================\n",
    "impotancia = forecaster.get_feature_importance()\n",
    "impotancia.sort_values('importance', ascending=False)"
   ]
  },
  {
   "cell_type": "markdown",
   "id": "052de931-5552-41e5-8d04-9ae2f0f04cf3",
   "metadata": {},
   "source": [
    "Predecimos junio"
   ]
  },
  {
   "cell_type": "code",
   "execution_count": 246,
   "id": "63e33dfd-d329-4ace-be25-94cf947206ba",
   "metadata": {},
   "outputs": [
    {
     "data": {
      "text/html": [
       "<div>\n",
       "<style scoped>\n",
       "    .dataframe tbody tr th:only-of-type {\n",
       "        vertical-align: middle;\n",
       "    }\n",
       "\n",
       "    .dataframe tbody tr th {\n",
       "        vertical-align: top;\n",
       "    }\n",
       "\n",
       "    .dataframe thead th {\n",
       "        text-align: right;\n",
       "    }\n",
       "</style>\n",
       "<table border=\"1\" class=\"dataframe\">\n",
       "  <thead>\n",
       "    <tr style=\"text-align: right;\">\n",
       "      <th></th>\n",
       "      <th>period</th>\n",
       "      <th>freq</th>\n",
       "      <th>freqFinanced</th>\n",
       "      <th>totalAmount</th>\n",
       "      <th>meanAmount</th>\n",
       "      <th>totalFinanced</th>\n",
       "      <th>meanFinanced</th>\n",
       "      <th>freqPayers</th>\n",
       "      <th>freqReceiver</th>\n",
       "    </tr>\n",
       "  </thead>\n",
       "  <tbody>\n",
       "    <tr>\n",
       "      <th>0</th>\n",
       "      <td>2021-11-01</td>\n",
       "      <td>5</td>\n",
       "      <td>1</td>\n",
       "      <td>35902.64</td>\n",
       "      <td>7180.53</td>\n",
       "      <td>10520.15</td>\n",
       "      <td>2104.03</td>\n",
       "      <td>5</td>\n",
       "      <td>5</td>\n",
       "    </tr>\n",
       "    <tr>\n",
       "      <th>1</th>\n",
       "      <td>2021-12-01</td>\n",
       "      <td>13</td>\n",
       "      <td>8</td>\n",
       "      <td>268349.19</td>\n",
       "      <td>20642.25</td>\n",
       "      <td>119352.51</td>\n",
       "      <td>9180.96</td>\n",
       "      <td>13</td>\n",
       "      <td>12</td>\n",
       "    </tr>\n",
       "    <tr>\n",
       "      <th>2</th>\n",
       "      <td>2022-01-01</td>\n",
       "      <td>17</td>\n",
       "      <td>7</td>\n",
       "      <td>753946.49</td>\n",
       "      <td>44349.79</td>\n",
       "      <td>592831.07</td>\n",
       "      <td>34872.42</td>\n",
       "      <td>16</td>\n",
       "      <td>16</td>\n",
       "    </tr>\n",
       "    <tr>\n",
       "      <th>3</th>\n",
       "      <td>2022-02-01</td>\n",
       "      <td>107</td>\n",
       "      <td>43</td>\n",
       "      <td>7283045.52</td>\n",
       "      <td>68065.85</td>\n",
       "      <td>5219511.13</td>\n",
       "      <td>48780.48</td>\n",
       "      <td>83</td>\n",
       "      <td>56</td>\n",
       "    </tr>\n",
       "    <tr>\n",
       "      <th>4</th>\n",
       "      <td>2022-03-01</td>\n",
       "      <td>183</td>\n",
       "      <td>45</td>\n",
       "      <td>7100660.51</td>\n",
       "      <td>38801.42</td>\n",
       "      <td>4485712.42</td>\n",
       "      <td>24512.09</td>\n",
       "      <td>115</td>\n",
       "      <td>65</td>\n",
       "    </tr>\n",
       "    <tr>\n",
       "      <th>5</th>\n",
       "      <td>2022-04-01</td>\n",
       "      <td>225</td>\n",
       "      <td>49</td>\n",
       "      <td>5765920.25</td>\n",
       "      <td>25626.31</td>\n",
       "      <td>2344379.98</td>\n",
       "      <td>10419.47</td>\n",
       "      <td>137</td>\n",
       "      <td>68</td>\n",
       "    </tr>\n",
       "    <tr>\n",
       "      <th>6</th>\n",
       "      <td>2022-05-01</td>\n",
       "      <td>269</td>\n",
       "      <td>50</td>\n",
       "      <td>5042399.69</td>\n",
       "      <td>18744.98</td>\n",
       "      <td>3057870.38</td>\n",
       "      <td>11367.55</td>\n",
       "      <td>153</td>\n",
       "      <td>73</td>\n",
       "    </tr>\n",
       "  </tbody>\n",
       "</table>\n",
       "</div>"
      ],
      "text/plain": [
       "      period  freq  freqFinanced  totalAmount  meanAmount  totalFinanced  \\\n",
       "0 2021-11-01     5             1     35902.64     7180.53       10520.15   \n",
       "1 2021-12-01    13             8    268349.19    20642.25      119352.51   \n",
       "2 2022-01-01    17             7    753946.49    44349.79      592831.07   \n",
       "3 2022-02-01   107            43   7283045.52    68065.85     5219511.13   \n",
       "4 2022-03-01   183            45   7100660.51    38801.42     4485712.42   \n",
       "5 2022-04-01   225            49   5765920.25    25626.31     2344379.98   \n",
       "6 2022-05-01   269            50   5042399.69    18744.98     3057870.38   \n",
       "\n",
       "   meanFinanced  freqPayers  freqReceiver  \n",
       "0       2104.03           5             5  \n",
       "1       9180.96          13            12  \n",
       "2      34872.42          16            16  \n",
       "3      48780.48          83            56  \n",
       "4      24512.09         115            65  \n",
       "5      10419.47         137            68  \n",
       "6      11367.55         153            73  "
      ]
     },
     "execution_count": 246,
     "metadata": {},
     "output_type": "execute_result"
    }
   ],
   "source": [
    "# Descarga de datos\n",
    "# ==============================================================================\n",
    "datos = pd.read_csv('data/data_final_lag.csv', parse_dates = ['period'],sep=';')\n",
    "datos = datos.drop('Unnamed: 0', axis=1)\n",
    "datos"
   ]
  },
  {
   "cell_type": "code",
   "execution_count": 247,
   "id": "55c80843-dc12-408e-a5ef-ec22d0325552",
   "metadata": {},
   "outputs": [
    {
     "data": {
      "text/html": [
       "<div>\n",
       "<style scoped>\n",
       "    .dataframe tbody tr th:only-of-type {\n",
       "        vertical-align: middle;\n",
       "    }\n",
       "\n",
       "    .dataframe tbody tr th {\n",
       "        vertical-align: top;\n",
       "    }\n",
       "\n",
       "    .dataframe thead th {\n",
       "        text-align: right;\n",
       "    }\n",
       "</style>\n",
       "<table border=\"1\" class=\"dataframe\">\n",
       "  <thead>\n",
       "    <tr style=\"text-align: right;\">\n",
       "      <th></th>\n",
       "      <th>qPayments</th>\n",
       "      <th>freqFinanced</th>\n",
       "      <th>y</th>\n",
       "      <th>meanAmount</th>\n",
       "      <th>totalFinanced</th>\n",
       "      <th>meanFinanced</th>\n",
       "      <th>freqPayers</th>\n",
       "      <th>freqReceiver</th>\n",
       "    </tr>\n",
       "    <tr>\n",
       "      <th>period</th>\n",
       "      <th></th>\n",
       "      <th></th>\n",
       "      <th></th>\n",
       "      <th></th>\n",
       "      <th></th>\n",
       "      <th></th>\n",
       "      <th></th>\n",
       "      <th></th>\n",
       "    </tr>\n",
       "  </thead>\n",
       "  <tbody>\n",
       "    <tr>\n",
       "      <th>2021-11-01</th>\n",
       "      <td>5</td>\n",
       "      <td>1</td>\n",
       "      <td>35902.64</td>\n",
       "      <td>7180.53</td>\n",
       "      <td>10520.15</td>\n",
       "      <td>2104.03</td>\n",
       "      <td>5</td>\n",
       "      <td>5</td>\n",
       "    </tr>\n",
       "    <tr>\n",
       "      <th>2021-12-01</th>\n",
       "      <td>13</td>\n",
       "      <td>8</td>\n",
       "      <td>268349.19</td>\n",
       "      <td>20642.25</td>\n",
       "      <td>119352.51</td>\n",
       "      <td>9180.96</td>\n",
       "      <td>13</td>\n",
       "      <td>12</td>\n",
       "    </tr>\n",
       "    <tr>\n",
       "      <th>2022-01-01</th>\n",
       "      <td>17</td>\n",
       "      <td>7</td>\n",
       "      <td>753946.49</td>\n",
       "      <td>44349.79</td>\n",
       "      <td>592831.07</td>\n",
       "      <td>34872.42</td>\n",
       "      <td>16</td>\n",
       "      <td>16</td>\n",
       "    </tr>\n",
       "    <tr>\n",
       "      <th>2022-02-01</th>\n",
       "      <td>107</td>\n",
       "      <td>43</td>\n",
       "      <td>7283045.52</td>\n",
       "      <td>68065.85</td>\n",
       "      <td>5219511.13</td>\n",
       "      <td>48780.48</td>\n",
       "      <td>83</td>\n",
       "      <td>56</td>\n",
       "    </tr>\n",
       "    <tr>\n",
       "      <th>2022-03-01</th>\n",
       "      <td>183</td>\n",
       "      <td>45</td>\n",
       "      <td>7100660.51</td>\n",
       "      <td>38801.42</td>\n",
       "      <td>4485712.42</td>\n",
       "      <td>24512.09</td>\n",
       "      <td>115</td>\n",
       "      <td>65</td>\n",
       "    </tr>\n",
       "  </tbody>\n",
       "</table>\n",
       "</div>"
      ],
      "text/plain": [
       "            qPayments  freqFinanced          y  meanAmount  totalFinanced  \\\n",
       "period                                                                      \n",
       "2021-11-01          5             1   35902.64     7180.53       10520.15   \n",
       "2021-12-01         13             8  268349.19    20642.25      119352.51   \n",
       "2022-01-01         17             7  753946.49    44349.79      592831.07   \n",
       "2022-02-01        107            43 7283045.52    68065.85     5219511.13   \n",
       "2022-03-01        183            45 7100660.51    38801.42     4485712.42   \n",
       "\n",
       "            meanFinanced  freqPayers  freqReceiver  \n",
       "period                                              \n",
       "2021-11-01       2104.03           5             5  \n",
       "2021-12-01       9180.96          13            12  \n",
       "2022-01-01      34872.42          16            16  \n",
       "2022-02-01      48780.48          83            56  \n",
       "2022-03-01      24512.09         115            65  "
      ]
     },
     "execution_count": 247,
     "metadata": {},
     "output_type": "execute_result"
    }
   ],
   "source": [
    "# Preparación del dato\n",
    "# ==============================================================================\n",
    "datos = datos.set_index('period')\n",
    "datos = datos.rename(columns={'totalAmount': 'y', 'freq': 'qPayments'})\n",
    "exog_cols = ['qPayments','freqFinanced','meanAmount','totalFinanced','meanFinanced','freqPayers','freqReceiver']\n",
    "datos = datos.asfreq('MS')\n",
    "datos = datos.sort_index()\n",
    "datos.head()"
   ]
  },
  {
   "cell_type": "code",
   "execution_count": 248,
   "id": "2a9601ad-84a4-4ff6-abf7-9f72f5e3d041",
   "metadata": {},
   "outputs": [
    {
     "data": {
      "text/plain": [
       "array([2251366.791])"
      ]
     },
     "execution_count": 248,
     "metadata": {},
     "output_type": "execute_result"
    }
   ],
   "source": [
    "# Predicciones\n",
    "# ==============================================================================\n",
    "predicciones = forecaster.predict(steps=steps, exog=datos[exog_cols])\n",
    "predicciones.values"
   ]
  },
  {
   "cell_type": "code",
   "execution_count": 249,
   "id": "b2b3cd36-2705-484e-8601-b90b3f34d3ad",
   "metadata": {},
   "outputs": [],
   "source": [
    "pred = pd.DataFrame(predicciones.values, columns=['y'], index=['2022-06-01 00:00:00'])\n",
    "pred.index = pred.index.astype(\"datetime64[ns]\")"
   ]
  },
  {
   "cell_type": "code",
   "execution_count": 260,
   "id": "22af0999-5d34-4b76-a37a-ac8004f469e0",
   "metadata": {},
   "outputs": [],
   "source": [
    "df_final_real = pd.DataFrame(datos['y'], columns=['y'])\n",
    "df_final_pred = pd.concat([pd.DataFrame(datos['y'], columns=['y']),pred])"
   ]
  },
  {
   "cell_type": "code",
   "execution_count": 262,
   "id": "ef887175-8e2f-4d90-adea-ba4f84605bda",
   "metadata": {},
   "outputs": [
    {
     "data": {
      "text/html": [
       "<div>\n",
       "<style scoped>\n",
       "    .dataframe tbody tr th:only-of-type {\n",
       "        vertical-align: middle;\n",
       "    }\n",
       "\n",
       "    .dataframe tbody tr th {\n",
       "        vertical-align: top;\n",
       "    }\n",
       "\n",
       "    .dataframe thead th {\n",
       "        text-align: right;\n",
       "    }\n",
       "</style>\n",
       "<table border=\"1\" class=\"dataframe\">\n",
       "  <thead>\n",
       "    <tr style=\"text-align: right;\">\n",
       "      <th></th>\n",
       "      <th>y</th>\n",
       "    </tr>\n",
       "  </thead>\n",
       "  <tbody>\n",
       "    <tr>\n",
       "      <th>2021-11-01</th>\n",
       "      <td>35902.64</td>\n",
       "    </tr>\n",
       "    <tr>\n",
       "      <th>2021-12-01</th>\n",
       "      <td>268349.19</td>\n",
       "    </tr>\n",
       "    <tr>\n",
       "      <th>2022-01-01</th>\n",
       "      <td>753946.49</td>\n",
       "    </tr>\n",
       "    <tr>\n",
       "      <th>2022-02-01</th>\n",
       "      <td>7283045.52</td>\n",
       "    </tr>\n",
       "    <tr>\n",
       "      <th>2022-03-01</th>\n",
       "      <td>7100660.51</td>\n",
       "    </tr>\n",
       "    <tr>\n",
       "      <th>2022-04-01</th>\n",
       "      <td>5765920.25</td>\n",
       "    </tr>\n",
       "    <tr>\n",
       "      <th>2022-05-01</th>\n",
       "      <td>5042399.69</td>\n",
       "    </tr>\n",
       "    <tr>\n",
       "      <th>2022-06-01</th>\n",
       "      <td>2251366.79</td>\n",
       "    </tr>\n",
       "  </tbody>\n",
       "</table>\n",
       "</div>"
      ],
      "text/plain": [
       "                    y\n",
       "2021-11-01   35902.64\n",
       "2021-12-01  268349.19\n",
       "2022-01-01  753946.49\n",
       "2022-02-01 7283045.52\n",
       "2022-03-01 7100660.51\n",
       "2022-04-01 5765920.25\n",
       "2022-05-01 5042399.69\n",
       "2022-06-01 2251366.79"
      ]
     },
     "execution_count": 262,
     "metadata": {},
     "output_type": "execute_result"
    }
   ],
   "source": [
    "df_final_pred\n"
   ]
  },
  {
   "cell_type": "code",
   "execution_count": 266,
   "id": "2182da0d-97f6-4b01-b2d9-8384062fe173",
   "metadata": {},
   "outputs": [
    {
     "data": {
      "text/plain": [
       "<AxesSubplot:xlabel='period'>"
      ]
     },
     "execution_count": 266,
     "metadata": {},
     "output_type": "execute_result"
    },
    {
     "data": {
      "image/png": "[encoded data removed]",
      "text/plain": [
       "<Figure size 864x288 with 1 Axes>"
      ]
     },
     "metadata": {
      "needs_background": "light"
     },
     "output_type": "display_data"
    }
   ],
   "source": [
    "# Gráfico\n",
    "# ==============================================================================\n",
    "fig, ax = plt.subplots(figsize=(12, 4))\n",
    "df_final_pred.plot(ax=ax, label='real')\n",
    "df_final_real.plot(ax=ax, label='pred')\n",
    "#ax.legend();"
   ]
  },
  {
   "cell_type": "code",
   "execution_count": null,
   "id": "a79297d7-6ed9-400f-af74-8d6fa09a2db3",
   "metadata": {},
   "outputs": [],
   "source": []
  },
  {
   "cell_type": "code",
   "execution_count": null,
   "id": "000935a9-399a-40cf-a365-770b393ee25b",
   "metadata": {},
   "outputs": [],
   "source": []
  }
 ],
 "metadata": {
  "kernelspec": {
   "display_name": "Python 3 (ipykernel)",
   "language": "python",
   "name": "python3"
  },
  "language_info": {
   "codemirror_mode": {
    "name": "ipython",
    "version": 3
   },
   "file_extension": ".py",
   "mimetype": "text/x-python",
   "name": "python",
   "nbconvert_exporter": "python",
   "pygments_lexer": "ipython3",
   "version": "3.8.10"
  }
 },
 "nbformat": 4,
 "nbformat_minor": 5
}
